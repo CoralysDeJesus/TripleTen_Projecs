{
 "cells": [
  {
   "cell_type": "markdown",
   "id": "c8b62d40",
   "metadata": {},
   "source": []
  },
  {
   "cell_type": "markdown",
   "id": "b9964dce",
   "metadata": {},
   "source": [
    "<div class=\"alert alert-info\"> <b>Summary:</b>\n",
    "    The goal of this project was to analyze the data received from Instacart and share the findings from what is learned.\n",
    "    The initial phase of the project involved pre-processing the data, where the initial data impression is obtained and cleaned up. This was done by identifying and addressing duplicate and missing values and their context, which in turn allowed for determining their relevance to the data. \n",
    "    The second part features data analysis through the use of descriptive statistical methods. \n",
    "    The project’s current progress status is: complete.\n",
    "    For a summary of findings, please see the end of page.</div>"
   ]
  },
  {
   "cell_type": "code",
   "execution_count": 1,
   "id": "fbf1adab",
   "metadata": {},
   "outputs": [],
   "source": [
    "import pandas as pd\n",
    "from matplotlib import pyplot as plt"
   ]
  },
  {
   "cell_type": "code",
   "execution_count": 2,
   "id": "22e380bf",
   "metadata": {},
   "outputs": [],
   "source": [
    "# reading files with the ';' as the delimiter\n",
    "orders = pd.read_csv('/datasets/instacart_orders.csv', sep=';')\n",
    "products = pd.read_csv('/datasets/products.csv', sep=';')\n",
    "aisles = pd.read_csv('/datasets/aisles.csv', sep=';')\n",
    "depts = pd.read_csv('/datasets/departments.csv', sep=';')\n",
    "order_products = pd.read_csv('/datasets/order_products.csv', sep=';')"
   ]
  },
  {
   "cell_type": "code",
   "execution_count": 3,
   "id": "caee8aa2",
   "metadata": {},
   "outputs": [
    {
     "name": "stdout",
     "output_type": "stream",
     "text": [
      "INSTACART_ORDERS.CSV: info():\n",
      "\n",
      "<class 'pandas.core.frame.DataFrame'>\n",
      "RangeIndex: 478967 entries, 0 to 478966\n",
      "Data columns (total 6 columns):\n",
      " #   Column                  Non-Null Count   Dtype  \n",
      "---  ------                  --------------   -----  \n",
      " 0   order_id                478967 non-null  int64  \n",
      " 1   user_id                 478967 non-null  int64  \n",
      " 2   order_number            478967 non-null  int64  \n",
      " 3   order_dow               478967 non-null  int64  \n",
      " 4   order_hour_of_day       478967 non-null  int64  \n",
      " 5   days_since_prior_order  450148 non-null  float64\n",
      "dtypes: float64(1), int64(5)\n",
      "memory usage: 21.9 MB\n",
      "\n",
      "_________________________\n",
      "\n",
      "INSTACART_ORDERS.CSV: sample()\n",
      "\n"
     ]
    },
    {
     "data": {
      "text/html": [
       "<div>\n",
       "<style scoped>\n",
       "    .dataframe tbody tr th:only-of-type {\n",
       "        vertical-align: middle;\n",
       "    }\n",
       "\n",
       "    .dataframe tbody tr th {\n",
       "        vertical-align: top;\n",
       "    }\n",
       "\n",
       "    .dataframe thead th {\n",
       "        text-align: right;\n",
       "    }\n",
       "</style>\n",
       "<table border=\"1\" class=\"dataframe\">\n",
       "  <thead>\n",
       "    <tr style=\"text-align: right;\">\n",
       "      <th></th>\n",
       "      <th>order_id</th>\n",
       "      <th>user_id</th>\n",
       "      <th>order_number</th>\n",
       "      <th>order_dow</th>\n",
       "      <th>order_hour_of_day</th>\n",
       "      <th>days_since_prior_order</th>\n",
       "    </tr>\n",
       "  </thead>\n",
       "  <tbody>\n",
       "    <tr>\n",
       "      <th>114929</th>\n",
       "      <td>357483</td>\n",
       "      <td>14901</td>\n",
       "      <td>29</td>\n",
       "      <td>4</td>\n",
       "      <td>10</td>\n",
       "      <td>15.0</td>\n",
       "    </tr>\n",
       "    <tr>\n",
       "      <th>339025</th>\n",
       "      <td>897752</td>\n",
       "      <td>33607</td>\n",
       "      <td>10</td>\n",
       "      <td>5</td>\n",
       "      <td>0</td>\n",
       "      <td>11.0</td>\n",
       "    </tr>\n",
       "    <tr>\n",
       "      <th>355452</th>\n",
       "      <td>2698167</td>\n",
       "      <td>53621</td>\n",
       "      <td>51</td>\n",
       "      <td>1</td>\n",
       "      <td>10</td>\n",
       "      <td>4.0</td>\n",
       "    </tr>\n",
       "    <tr>\n",
       "      <th>236299</th>\n",
       "      <td>3131627</td>\n",
       "      <td>150547</td>\n",
       "      <td>11</td>\n",
       "      <td>0</td>\n",
       "      <td>15</td>\n",
       "      <td>8.0</td>\n",
       "    </tr>\n",
       "    <tr>\n",
       "      <th>346667</th>\n",
       "      <td>2872619</td>\n",
       "      <td>39767</td>\n",
       "      <td>3</td>\n",
       "      <td>5</td>\n",
       "      <td>15</td>\n",
       "      <td>30.0</td>\n",
       "    </tr>\n",
       "  </tbody>\n",
       "</table>\n",
       "</div>"
      ],
      "text/plain": [
       "        order_id  user_id  order_number  order_dow  order_hour_of_day  \\\n",
       "114929    357483    14901            29          4                 10   \n",
       "339025    897752    33607            10          5                  0   \n",
       "355452   2698167    53621            51          1                 10   \n",
       "236299   3131627   150547            11          0                 15   \n",
       "346667   2872619    39767             3          5                 15   \n",
       "\n",
       "        days_since_prior_order  \n",
       "114929                    15.0  \n",
       "339025                    11.0  \n",
       "355452                     4.0  \n",
       "236299                     8.0  \n",
       "346667                    30.0  "
      ]
     },
     "metadata": {},
     "output_type": "display_data"
    },
    {
     "name": "stdout",
     "output_type": "stream",
     "text": [
      "\n",
      "_________________________\n"
     ]
    }
   ],
   "source": [
    "# obtaining an initial impression of the data with info() and sample()\n",
    "# print() and \"___\" used for formatting output for easier read\n",
    "\n",
    "# instacart_orders.csv\n",
    "print(\"INSTACART_ORDERS.CSV: info():\"), print()\n",
    "orders.info(), print()\n",
    "print(\"_________________________\"), print()\n",
    "print(\"INSTACART_ORDERS.CSV: sample()\"), print()\n",
    "display(orders.sample(5, random_state=111)), print()\n",
    "print(\"_________________________\")"
   ]
  },
  {
   "cell_type": "markdown",
   "id": "62461af2",
   "metadata": {},
   "source": [
    "<b>instacart_orders.csv: Initial impression</b>\n",
    "\n",
    "This file has a total of 478,967 rows and 6 columns of data. Each row of data corresponds to one order on the Instacart app. Each column name and its associated information are as follows:\n",
    "\n",
    "* <b>'order_id'</b>: a categorical variable. Holds the ID number that uniquely identifies each order. Is an <b>int</b> type.\n",
    "\n",
    "* <b>'user_id'</b>: a categorical variable. Has an ID number that uniquely identifies each customer account. Is an <b>int</b> type.\n",
    "\n",
    "* <b>'order_number'</b>: a quantitative variable. Holds the number of times this customer has placed an order. Is an <b>int</b> type.\n",
    "\n",
    "* <b>'order_dow'</b>: a quantitative variable. Holds the day of the week (dow) that the order was placed (which day is 0 is uncertain, for the purpose of analysis: Day 0 = Sunday, day 6 = Saturday). Is an <b>int</b> type.\n",
    "\n",
    "* <b>'order_hour_of_day'</b>: a quantitative variable. Holds the hour of the day (hod) that the order was placed. Is an <b>int</b> type.\n",
    "\n",
    "* <b>'days_since_prior_order'</b>: a quantitative variable. The number of days since this customer placed their previous order. Is a <b>float</b> type.\n",
    "\n",
    "Column <b>'days_since_prior_order'</b>: has a total of 28, 819 null/missing values. "
   ]
  },
  {
   "cell_type": "code",
   "execution_count": 4,
   "id": "f3bc2129",
   "metadata": {},
   "outputs": [
    {
     "name": "stdout",
     "output_type": "stream",
     "text": [
      "PRODUCTS.CSV: info():\n",
      "\n",
      "<class 'pandas.core.frame.DataFrame'>\n",
      "RangeIndex: 49694 entries, 0 to 49693\n",
      "Data columns (total 4 columns):\n",
      " #   Column         Non-Null Count  Dtype \n",
      "---  ------         --------------  ----- \n",
      " 0   product_id     49694 non-null  int64 \n",
      " 1   product_name   48436 non-null  object\n",
      " 2   aisle_id       49694 non-null  int64 \n",
      " 3   department_id  49694 non-null  int64 \n",
      "dtypes: int64(3), object(1)\n",
      "memory usage: 1.5+ MB\n",
      "\n",
      "_________________________\n",
      "\n",
      "PRODUCTS.CSV: sample():\n",
      "\n"
     ]
    },
    {
     "data": {
      "text/html": [
       "<div>\n",
       "<style scoped>\n",
       "    .dataframe tbody tr th:only-of-type {\n",
       "        vertical-align: middle;\n",
       "    }\n",
       "\n",
       "    .dataframe tbody tr th {\n",
       "        vertical-align: top;\n",
       "    }\n",
       "\n",
       "    .dataframe thead th {\n",
       "        text-align: right;\n",
       "    }\n",
       "</style>\n",
       "<table border=\"1\" class=\"dataframe\">\n",
       "  <thead>\n",
       "    <tr style=\"text-align: right;\">\n",
       "      <th></th>\n",
       "      <th>product_id</th>\n",
       "      <th>product_name</th>\n",
       "      <th>aisle_id</th>\n",
       "      <th>department_id</th>\n",
       "    </tr>\n",
       "  </thead>\n",
       "  <tbody>\n",
       "    <tr>\n",
       "      <th>22912</th>\n",
       "      <td>22913</td>\n",
       "      <td>Borscht with Diced Beets</td>\n",
       "      <td>33</td>\n",
       "      <td>6</td>\n",
       "    </tr>\n",
       "    <tr>\n",
       "      <th>30350</th>\n",
       "      <td>30351</td>\n",
       "      <td>Barbera D' Alba</td>\n",
       "      <td>28</td>\n",
       "      <td>5</td>\n",
       "    </tr>\n",
       "    <tr>\n",
       "      <th>26789</th>\n",
       "      <td>26790</td>\n",
       "      <td>Organic AppleApple</td>\n",
       "      <td>99</td>\n",
       "      <td>15</td>\n",
       "    </tr>\n",
       "    <tr>\n",
       "      <th>5499</th>\n",
       "      <td>5500</td>\n",
       "      <td>Blended Juice Beverage- Mango Orange</td>\n",
       "      <td>113</td>\n",
       "      <td>1</td>\n",
       "    </tr>\n",
       "    <tr>\n",
       "      <th>35807</th>\n",
       "      <td>35808</td>\n",
       "      <td>Nourish + Shine Shampoo Hair Care</td>\n",
       "      <td>22</td>\n",
       "      <td>11</td>\n",
       "    </tr>\n",
       "  </tbody>\n",
       "</table>\n",
       "</div>"
      ],
      "text/plain": [
       "       product_id                          product_name  aisle_id  \\\n",
       "22912       22913              Borscht with Diced Beets        33   \n",
       "30350       30351                       Barbera D' Alba        28   \n",
       "26789       26790                    Organic AppleApple        99   \n",
       "5499         5500  Blended Juice Beverage- Mango Orange       113   \n",
       "35807       35808     Nourish + Shine Shampoo Hair Care        22   \n",
       "\n",
       "       department_id  \n",
       "22912              6  \n",
       "30350              5  \n",
       "26789             15  \n",
       "5499               1  \n",
       "35807             11  "
      ]
     },
     "metadata": {},
     "output_type": "display_data"
    },
    {
     "name": "stdout",
     "output_type": "stream",
     "text": [
      "\n",
      "_________________________\n",
      "\n"
     ]
    },
    {
     "data": {
      "text/plain": [
       "product_id          0\n",
       "product_name     1258\n",
       "aisle_id            0\n",
       "department_id       0\n",
       "dtype: int64"
      ]
     },
     "execution_count": 4,
     "metadata": {},
     "output_type": "execute_result"
    }
   ],
   "source": [
    "# products.csv\n",
    "print(\"PRODUCTS.CSV: info():\"), print()\n",
    "products.info(), print()\n",
    "print(\"_________________________\"), print()\n",
    "print(\"PRODUCTS.CSV: sample():\"), print()\n",
    "display(products.sample(5, random_state=111)), print()\n",
    "print(\"_________________________\")\n",
    "print()\n",
    "products.isna().sum()"
   ]
  },
  {
   "cell_type": "markdown",
   "id": "bbc64d5b",
   "metadata": {},
   "source": [
    "<b>products.csv: Initial impression</b>\n",
    "\n",
    "This file has a total of 49,694 rows and 4 columns of data. \n",
    "\n",
    "Each row corresponds to a unique product that customers can buy. Each column name and its associated information are as follows:\n",
    "\n",
    "* <b>'product_id'</b>: a categorical variable. Holds the ID number that uniquely identifies each product. Is an <b>int</b> type.\n",
    "\n",
    "* <b>'product_name':</b>: a categorical variable. Holds the name of the product. Is an <b>object</b> type.\n",
    "\n",
    "* <b>'aisle_id'</b>: a categorical variable. Holds the ID number that uniquely identifies each grocery aisle category. Is an <b>int</b> type.\n",
    "\n",
    "* <b>'department_id'</b>: a categorical variable. Holds the ID number that uniquely identifies each grocery department category. Is an <b>int</b> type.\n",
    "\n",
    "Column <b>'product_name'</b>: has a total of 1, 258 null/missing values. "
   ]
  },
  {
   "cell_type": "code",
   "execution_count": 5,
   "id": "e4693833",
   "metadata": {
    "scrolled": true
   },
   "outputs": [
    {
     "name": "stdout",
     "output_type": "stream",
     "text": [
      "AISLES.CSV: info():\n",
      "\n",
      "<class 'pandas.core.frame.DataFrame'>\n",
      "RangeIndex: 134 entries, 0 to 133\n",
      "Data columns (total 2 columns):\n",
      " #   Column    Non-Null Count  Dtype \n",
      "---  ------    --------------  ----- \n",
      " 0   aisle_id  134 non-null    int64 \n",
      " 1   aisle     134 non-null    object\n",
      "dtypes: int64(1), object(1)\n",
      "memory usage: 2.2+ KB\n",
      "\n",
      "_________________________\n",
      "\n",
      "AISLES.CSV: sample():\n",
      "\n"
     ]
    },
    {
     "data": {
      "text/html": [
       "<div>\n",
       "<style scoped>\n",
       "    .dataframe tbody tr th:only-of-type {\n",
       "        vertical-align: middle;\n",
       "    }\n",
       "\n",
       "    .dataframe tbody tr th {\n",
       "        vertical-align: top;\n",
       "    }\n",
       "\n",
       "    .dataframe thead th {\n",
       "        text-align: right;\n",
       "    }\n",
       "</style>\n",
       "<table border=\"1\" class=\"dataframe\">\n",
       "  <thead>\n",
       "    <tr style=\"text-align: right;\">\n",
       "      <th></th>\n",
       "      <th>aisle_id</th>\n",
       "      <th>aisle</th>\n",
       "    </tr>\n",
       "  </thead>\n",
       "  <tbody>\n",
       "    <tr>\n",
       "      <th>129</th>\n",
       "      <td>130</td>\n",
       "      <td>hot cereal pancake mixes</td>\n",
       "    </tr>\n",
       "    <tr>\n",
       "      <th>48</th>\n",
       "      <td>49</td>\n",
       "      <td>packaged poultry</td>\n",
       "    </tr>\n",
       "    <tr>\n",
       "      <th>90</th>\n",
       "      <td>91</td>\n",
       "      <td>soy lactosefree</td>\n",
       "    </tr>\n",
       "    <tr>\n",
       "      <th>93</th>\n",
       "      <td>94</td>\n",
       "      <td>tea</td>\n",
       "    </tr>\n",
       "    <tr>\n",
       "      <th>133</th>\n",
       "      <td>134</td>\n",
       "      <td>specialty wines champagnes</td>\n",
       "    </tr>\n",
       "  </tbody>\n",
       "</table>\n",
       "</div>"
      ],
      "text/plain": [
       "     aisle_id                       aisle\n",
       "129       130    hot cereal pancake mixes\n",
       "48         49            packaged poultry\n",
       "90         91             soy lactosefree\n",
       "93         94                         tea\n",
       "133       134  specialty wines champagnes"
      ]
     },
     "metadata": {},
     "output_type": "display_data"
    },
    {
     "name": "stdout",
     "output_type": "stream",
     "text": [
      "\n",
      "_________________________\n",
      "\n"
     ]
    }
   ],
   "source": [
    "# aisles.csv\n",
    "print(\"AISLES.CSV: info():\"), print()\n",
    "aisles.info(), print()\n",
    "print(\"_________________________\"), print()\n",
    "print(\"AISLES.CSV: sample():\"), print()\n",
    "display(aisles.sample(5, random_state=111)), print()\n",
    "print(\"_________________________\")\n",
    "print()"
   ]
  },
  {
   "cell_type": "markdown",
   "id": "bde3c7c8",
   "metadata": {},
   "source": [
    "<b>aisles.csv: Initial impression</b>\n",
    "\n",
    "This file has a total of 134 rows and 2 columns of data. \n",
    "\n",
    "Each row corresponds to an aisle name and number. Each column name and its associated information are as follows:\n",
    "\n",
    "* <b>'aisle_id'</b>: a categorical variable. Holds the ID number that uniquely identifies each grocery aisle category. Is an <b>int</b> type.\n",
    "\n",
    "* <b>’aisle'</b>: a categorical variable. Holds the name of the aisle. Is an <b>object</b> type.\n"
   ]
  },
  {
   "cell_type": "code",
   "execution_count": 6,
   "id": "132dce2d",
   "metadata": {},
   "outputs": [
    {
     "name": "stdout",
     "output_type": "stream",
     "text": [
      "DEPARTMENTS.CSV: info():\n",
      "\n",
      "<class 'pandas.core.frame.DataFrame'>\n",
      "RangeIndex: 21 entries, 0 to 20\n",
      "Data columns (total 2 columns):\n",
      " #   Column         Non-Null Count  Dtype \n",
      "---  ------         --------------  ----- \n",
      " 0   department_id  21 non-null     int64 \n",
      " 1   department     21 non-null     object\n",
      "dtypes: int64(1), object(1)\n",
      "memory usage: 464.0+ bytes\n",
      "\n",
      "_________________________\n",
      "\n",
      "DEPARTMENTS.CSV: sample():\n",
      "\n"
     ]
    },
    {
     "data": {
      "text/html": [
       "<div>\n",
       "<style scoped>\n",
       "    .dataframe tbody tr th:only-of-type {\n",
       "        vertical-align: middle;\n",
       "    }\n",
       "\n",
       "    .dataframe tbody tr th {\n",
       "        vertical-align: top;\n",
       "    }\n",
       "\n",
       "    .dataframe thead th {\n",
       "        text-align: right;\n",
       "    }\n",
       "</style>\n",
       "<table border=\"1\" class=\"dataframe\">\n",
       "  <thead>\n",
       "    <tr style=\"text-align: right;\">\n",
       "      <th></th>\n",
       "      <th>department_id</th>\n",
       "      <th>department</th>\n",
       "    </tr>\n",
       "  </thead>\n",
       "  <tbody>\n",
       "    <tr>\n",
       "      <th>3</th>\n",
       "      <td>4</td>\n",
       "      <td>produce</td>\n",
       "    </tr>\n",
       "    <tr>\n",
       "      <th>5</th>\n",
       "      <td>6</td>\n",
       "      <td>international</td>\n",
       "    </tr>\n",
       "    <tr>\n",
       "      <th>13</th>\n",
       "      <td>14</td>\n",
       "      <td>breakfast</td>\n",
       "    </tr>\n",
       "    <tr>\n",
       "      <th>11</th>\n",
       "      <td>12</td>\n",
       "      <td>meat seafood</td>\n",
       "    </tr>\n",
       "    <tr>\n",
       "      <th>14</th>\n",
       "      <td>15</td>\n",
       "      <td>canned goods</td>\n",
       "    </tr>\n",
       "  </tbody>\n",
       "</table>\n",
       "</div>"
      ],
      "text/plain": [
       "    department_id     department\n",
       "3               4        produce\n",
       "5               6  international\n",
       "13             14      breakfast\n",
       "11             12   meat seafood\n",
       "14             15   canned goods"
      ]
     },
     "metadata": {},
     "output_type": "display_data"
    },
    {
     "name": "stdout",
     "output_type": "stream",
     "text": [
      "\n",
      "_________________________\n",
      "\n"
     ]
    }
   ],
   "source": [
    "# departments.csv\n",
    "print(\"DEPARTMENTS.CSV: info():\"), print()\n",
    "depts.info(), print()\n",
    "print(\"_________________________\"), print()\n",
    "print(\"DEPARTMENTS.CSV: sample():\"), print()\n",
    "display(depts.sample(5, random_state=111)), print()\n",
    "print(\"_________________________\")\n",
    "print()"
   ]
  },
  {
   "cell_type": "markdown",
   "id": "2e47dcb8",
   "metadata": {},
   "source": [
    "<b>departments.csv: Initial impression</b>\n",
    "\n",
    "This file has a total of 21 rows and 2 columns of data. \n",
    "\n",
    "Each row corresponds to a department name and number. Each column name and its associated information are as follows:\n",
    "\n",
    "* <b>'department_id'</b>: a categorical variable. Holds the  ID number that uniquely identifies each grocery department category. Is an <b>int</b> type.\n",
    "\n",
    "* <b>’department'</b>: a categorical variable. Holds the name of the department. Is an <b>object</b> type.\n"
   ]
  },
  {
   "cell_type": "code",
   "execution_count": 7,
   "id": "ad36396d",
   "metadata": {
    "scrolled": true
   },
   "outputs": [
    {
     "name": "stdout",
     "output_type": "stream",
     "text": [
      "ORDER_PRODUCTS.CSV: info():\n",
      "\n",
      "<class 'pandas.core.frame.DataFrame'>\n",
      "RangeIndex: 4545007 entries, 0 to 4545006\n",
      "Data columns (total 4 columns):\n",
      " #   Column             Non-Null Count    Dtype  \n",
      "---  ------             --------------    -----  \n",
      " 0   order_id           4545007 non-null  int64  \n",
      " 1   product_id         4545007 non-null  int64  \n",
      " 2   add_to_cart_order  4544171 non-null  float64\n",
      " 3   reordered          4545007 non-null  int64  \n",
      "dtypes: float64(1), int64(3)\n",
      "memory usage: 138.7 MB\n",
      "\n",
      "_________________________\n",
      "\n",
      "ORDER_PRODUCTS.CSV: sample():\n",
      "\n"
     ]
    },
    {
     "data": {
      "text/html": [
       "<div>\n",
       "<style scoped>\n",
       "    .dataframe tbody tr th:only-of-type {\n",
       "        vertical-align: middle;\n",
       "    }\n",
       "\n",
       "    .dataframe tbody tr th {\n",
       "        vertical-align: top;\n",
       "    }\n",
       "\n",
       "    .dataframe thead th {\n",
       "        text-align: right;\n",
       "    }\n",
       "</style>\n",
       "<table border=\"1\" class=\"dataframe\">\n",
       "  <thead>\n",
       "    <tr style=\"text-align: right;\">\n",
       "      <th></th>\n",
       "      <th>order_id</th>\n",
       "      <th>product_id</th>\n",
       "      <th>add_to_cart_order</th>\n",
       "      <th>reordered</th>\n",
       "    </tr>\n",
       "  </thead>\n",
       "  <tbody>\n",
       "    <tr>\n",
       "      <th>1723270</th>\n",
       "      <td>409034</td>\n",
       "      <td>28132</td>\n",
       "      <td>5.0</td>\n",
       "      <td>1</td>\n",
       "    </tr>\n",
       "    <tr>\n",
       "      <th>1833883</th>\n",
       "      <td>460225</td>\n",
       "      <td>32227</td>\n",
       "      <td>3.0</td>\n",
       "      <td>1</td>\n",
       "    </tr>\n",
       "    <tr>\n",
       "      <th>979716</th>\n",
       "      <td>405475</td>\n",
       "      <td>24631</td>\n",
       "      <td>7.0</td>\n",
       "      <td>1</td>\n",
       "    </tr>\n",
       "    <tr>\n",
       "      <th>1638886</th>\n",
       "      <td>1982115</td>\n",
       "      <td>48373</td>\n",
       "      <td>2.0</td>\n",
       "      <td>0</td>\n",
       "    </tr>\n",
       "    <tr>\n",
       "      <th>3852111</th>\n",
       "      <td>2111594</td>\n",
       "      <td>48017</td>\n",
       "      <td>9.0</td>\n",
       "      <td>0</td>\n",
       "    </tr>\n",
       "  </tbody>\n",
       "</table>\n",
       "</div>"
      ],
      "text/plain": [
       "         order_id  product_id  add_to_cart_order  reordered\n",
       "1723270    409034       28132                5.0          1\n",
       "1833883    460225       32227                3.0          1\n",
       "979716     405475       24631                7.0          1\n",
       "1638886   1982115       48373                2.0          0\n",
       "3852111   2111594       48017                9.0          0"
      ]
     },
     "metadata": {},
     "output_type": "display_data"
    },
    {
     "name": "stdout",
     "output_type": "stream",
     "text": [
      "\n"
     ]
    }
   ],
   "source": [
    "# order_products.csv\n",
    "print(\"ORDER_PRODUCTS.CSV: info():\"), print()\n",
    "order_products.info(show_counts=True), print()\n",
    "print(\"_________________________\"), print()\n",
    "print(\"ORDER_PRODUCTS.CSV: sample():\"), print()\n",
    "display(order_products.sample(5, random_state=111))\n",
    "print()"
   ]
  },
  {
   "cell_type": "markdown",
   "id": "cced9627",
   "metadata": {},
   "source": [
    "<b>order_products.csv: Initial impression</b>\n",
    "\n",
    "This file has a total of 4,545,007 and 4 columns of data. \n",
    "\n",
    "Each row corresponds to one item placed in an order. Each column name and associated information are as follows:\n",
    "\n",
    "* <b>'order_id'</b>: a categorical variable. Holds an ID number that uniquely identifies each order. Is an <b>int</b> type.\n",
    "\n",
    "* <b>'product_id'</b>: a categorical variable. Holds the ID number that uniquely identifies each product. Is an <b>int</b> type.\n",
    "\n",
    "* <b>'add_to_cart_order'</b>: a categorical variable. Holds the sequential order in which each item was placed in the cart. Is a <b>float</b> type.\n",
    "\n",
    "* <b>'reordered'</b>: a categorical variable. Holds whether the customer has ever purchased the product before. 0 if they customer haven’t, 1 if they have. Is an <b>int</b> type.\n",
    "\n",
    "\n",
    "Column <b>'add_to_cart_order'</b>: has a total of 836 null/missing values. \n"
   ]
  },
  {
   "cell_type": "markdown",
   "id": "07357848-dc64-4156-9cc3-01ff4365226d",
   "metadata": {},
   "source": [
    "## Find and remove duplicate values (and describe why you make your choices)"
   ]
  },
  {
   "cell_type": "markdown",
   "id": "f179f0a9",
   "metadata": {},
   "source": [
    "### `orders` data frame"
   ]
  },
  {
   "cell_type": "code",
   "execution_count": 8,
   "id": "b99297a5-405a-463d-8535-9adc3da4ad74",
   "metadata": {},
   "outputs": [
    {
     "name": "stdout",
     "output_type": "stream",
     "text": [
      "Number of duplicate rows in 'orders' DataFrame:    15\n",
      "\n",
      "Duplicate values in original df:   \n"
     ]
    },
    {
     "data": {
      "text/html": [
       "<div>\n",
       "<style scoped>\n",
       "    .dataframe tbody tr th:only-of-type {\n",
       "        vertical-align: middle;\n",
       "    }\n",
       "\n",
       "    .dataframe tbody tr th {\n",
       "        vertical-align: top;\n",
       "    }\n",
       "\n",
       "    .dataframe thead th {\n",
       "        text-align: right;\n",
       "    }\n",
       "</style>\n",
       "<table border=\"1\" class=\"dataframe\">\n",
       "  <thead>\n",
       "    <tr style=\"text-align: right;\">\n",
       "      <th></th>\n",
       "      <th>order_id</th>\n",
       "      <th>user_id</th>\n",
       "      <th>order_number</th>\n",
       "      <th>order_dow</th>\n",
       "      <th>order_hour_of_day</th>\n",
       "      <th>days_since_prior_order</th>\n",
       "    </tr>\n",
       "  </thead>\n",
       "  <tbody>\n",
       "    <tr>\n",
       "      <th>145574</th>\n",
       "      <td>794638</td>\n",
       "      <td>50898</td>\n",
       "      <td>24</td>\n",
       "      <td>3</td>\n",
       "      <td>2</td>\n",
       "      <td>2.0</td>\n",
       "    </tr>\n",
       "    <tr>\n",
       "      <th>223105</th>\n",
       "      <td>2160484</td>\n",
       "      <td>107525</td>\n",
       "      <td>16</td>\n",
       "      <td>3</td>\n",
       "      <td>2</td>\n",
       "      <td>30.0</td>\n",
       "    </tr>\n",
       "    <tr>\n",
       "      <th>230807</th>\n",
       "      <td>1918001</td>\n",
       "      <td>188546</td>\n",
       "      <td>14</td>\n",
       "      <td>3</td>\n",
       "      <td>2</td>\n",
       "      <td>16.0</td>\n",
       "    </tr>\n",
       "    <tr>\n",
       "      <th>266232</th>\n",
       "      <td>1782114</td>\n",
       "      <td>106752</td>\n",
       "      <td>1</td>\n",
       "      <td>3</td>\n",
       "      <td>2</td>\n",
       "      <td>NaN</td>\n",
       "    </tr>\n",
       "    <tr>\n",
       "      <th>273805</th>\n",
       "      <td>1112182</td>\n",
       "      <td>202304</td>\n",
       "      <td>84</td>\n",
       "      <td>3</td>\n",
       "      <td>2</td>\n",
       "      <td>6.0</td>\n",
       "    </tr>\n",
       "    <tr>\n",
       "      <th>284038</th>\n",
       "      <td>2845099</td>\n",
       "      <td>31189</td>\n",
       "      <td>11</td>\n",
       "      <td>3</td>\n",
       "      <td>2</td>\n",
       "      <td>7.0</td>\n",
       "    </tr>\n",
       "    <tr>\n",
       "      <th>311713</th>\n",
       "      <td>1021560</td>\n",
       "      <td>53767</td>\n",
       "      <td>3</td>\n",
       "      <td>3</td>\n",
       "      <td>2</td>\n",
       "      <td>9.0</td>\n",
       "    </tr>\n",
       "    <tr>\n",
       "      <th>321100</th>\n",
       "      <td>408114</td>\n",
       "      <td>68324</td>\n",
       "      <td>4</td>\n",
       "      <td>3</td>\n",
       "      <td>2</td>\n",
       "      <td>18.0</td>\n",
       "    </tr>\n",
       "    <tr>\n",
       "      <th>323900</th>\n",
       "      <td>1919531</td>\n",
       "      <td>191501</td>\n",
       "      <td>32</td>\n",
       "      <td>3</td>\n",
       "      <td>2</td>\n",
       "      <td>7.0</td>\n",
       "    </tr>\n",
       "    <tr>\n",
       "      <th>345917</th>\n",
       "      <td>2232988</td>\n",
       "      <td>82565</td>\n",
       "      <td>1</td>\n",
       "      <td>3</td>\n",
       "      <td>2</td>\n",
       "      <td>NaN</td>\n",
       "    </tr>\n",
       "    <tr>\n",
       "      <th>371905</th>\n",
       "      <td>391768</td>\n",
       "      <td>57671</td>\n",
       "      <td>19</td>\n",
       "      <td>3</td>\n",
       "      <td>2</td>\n",
       "      <td>10.0</td>\n",
       "    </tr>\n",
       "    <tr>\n",
       "      <th>394347</th>\n",
       "      <td>467134</td>\n",
       "      <td>63189</td>\n",
       "      <td>21</td>\n",
       "      <td>3</td>\n",
       "      <td>2</td>\n",
       "      <td>2.0</td>\n",
       "    </tr>\n",
       "    <tr>\n",
       "      <th>411408</th>\n",
       "      <td>1286742</td>\n",
       "      <td>183220</td>\n",
       "      <td>48</td>\n",
       "      <td>3</td>\n",
       "      <td>2</td>\n",
       "      <td>4.0</td>\n",
       "    </tr>\n",
       "    <tr>\n",
       "      <th>415163</th>\n",
       "      <td>2282673</td>\n",
       "      <td>86751</td>\n",
       "      <td>49</td>\n",
       "      <td>3</td>\n",
       "      <td>2</td>\n",
       "      <td>2.0</td>\n",
       "    </tr>\n",
       "    <tr>\n",
       "      <th>441599</th>\n",
       "      <td>2125197</td>\n",
       "      <td>14050</td>\n",
       "      <td>48</td>\n",
       "      <td>3</td>\n",
       "      <td>2</td>\n",
       "      <td>3.0</td>\n",
       "    </tr>\n",
       "  </tbody>\n",
       "</table>\n",
       "</div>"
      ],
      "text/plain": [
       "        order_id  user_id  order_number  order_dow  order_hour_of_day  \\\n",
       "145574    794638    50898            24          3                  2   \n",
       "223105   2160484   107525            16          3                  2   \n",
       "230807   1918001   188546            14          3                  2   \n",
       "266232   1782114   106752             1          3                  2   \n",
       "273805   1112182   202304            84          3                  2   \n",
       "284038   2845099    31189            11          3                  2   \n",
       "311713   1021560    53767             3          3                  2   \n",
       "321100    408114    68324             4          3                  2   \n",
       "323900   1919531   191501            32          3                  2   \n",
       "345917   2232988    82565             1          3                  2   \n",
       "371905    391768    57671            19          3                  2   \n",
       "394347    467134    63189            21          3                  2   \n",
       "411408   1286742   183220            48          3                  2   \n",
       "415163   2282673    86751            49          3                  2   \n",
       "441599   2125197    14050            48          3                  2   \n",
       "\n",
       "        days_since_prior_order  \n",
       "145574                     2.0  \n",
       "223105                    30.0  \n",
       "230807                    16.0  \n",
       "266232                     NaN  \n",
       "273805                     6.0  \n",
       "284038                     7.0  \n",
       "311713                     9.0  \n",
       "321100                    18.0  \n",
       "323900                     7.0  \n",
       "345917                     NaN  \n",
       "371905                    10.0  \n",
       "394347                     2.0  \n",
       "411408                     4.0  \n",
       "415163                     2.0  \n",
       "441599                     3.0  "
      ]
     },
     "metadata": {},
     "output_type": "display_data"
    }
   ],
   "source": [
    "## Check for duplicated orders\n",
    "\n",
    "# using duplicated() and sum() method to calculate the number of duplicate values\n",
    "print(\"Number of duplicate rows in 'orders' DataFrame:   \", orders.duplicated().sum()), print()\n",
    "\n",
    "# saving actual duplicate values from original df to variable and displaying to see what the data looks like\n",
    "dupes = orders[orders.duplicated()]\n",
    "\n",
    "print(\"Duplicate values in original df:   \")\n",
    "display(dupes)"
   ]
  },
  {
   "cell_type": "markdown",
   "id": "d5e093ce",
   "metadata": {},
   "source": [
    "<b>1.1 ‘orders’ DataFrame</b>\n",
    "\n",
    "<b>Task: check for duplicated orders</b>\n",
    "\n",
    "There are a total of 15 duplicate rows in the ‘orders’ DataFrame which also happens to feature a couple of the NaN values from the ‘days_since_prior_order’ column. \n",
    "\n",
    "To see a chart of all 15 values, see the output above. \n"
   ]
  },
  {
   "cell_type": "code",
   "execution_count": 9,
   "id": "0d44de5d",
   "metadata": {},
   "outputs": [
    {
     "name": "stdout",
     "output_type": "stream",
     "text": [
      "Number of duplicate values specific to Wed @ 2am:    15\n"
     ]
    },
    {
     "data": {
      "text/html": [
       "<div>\n",
       "<style scoped>\n",
       "    .dataframe tbody tr th:only-of-type {\n",
       "        vertical-align: middle;\n",
       "    }\n",
       "\n",
       "    .dataframe tbody tr th {\n",
       "        vertical-align: top;\n",
       "    }\n",
       "\n",
       "    .dataframe thead th {\n",
       "        text-align: right;\n",
       "    }\n",
       "</style>\n",
       "<table border=\"1\" class=\"dataframe\">\n",
       "  <thead>\n",
       "    <tr style=\"text-align: right;\">\n",
       "      <th></th>\n",
       "      <th>order_id</th>\n",
       "      <th>user_id</th>\n",
       "      <th>order_number</th>\n",
       "      <th>order_dow</th>\n",
       "      <th>order_hour_of_day</th>\n",
       "      <th>days_since_prior_order</th>\n",
       "    </tr>\n",
       "  </thead>\n",
       "  <tbody>\n",
       "    <tr>\n",
       "      <th>145574</th>\n",
       "      <td>794638</td>\n",
       "      <td>50898</td>\n",
       "      <td>24</td>\n",
       "      <td>3</td>\n",
       "      <td>2</td>\n",
       "      <td>2.0</td>\n",
       "    </tr>\n",
       "    <tr>\n",
       "      <th>223105</th>\n",
       "      <td>2160484</td>\n",
       "      <td>107525</td>\n",
       "      <td>16</td>\n",
       "      <td>3</td>\n",
       "      <td>2</td>\n",
       "      <td>30.0</td>\n",
       "    </tr>\n",
       "    <tr>\n",
       "      <th>230807</th>\n",
       "      <td>1918001</td>\n",
       "      <td>188546</td>\n",
       "      <td>14</td>\n",
       "      <td>3</td>\n",
       "      <td>2</td>\n",
       "      <td>16.0</td>\n",
       "    </tr>\n",
       "    <tr>\n",
       "      <th>266232</th>\n",
       "      <td>1782114</td>\n",
       "      <td>106752</td>\n",
       "      <td>1</td>\n",
       "      <td>3</td>\n",
       "      <td>2</td>\n",
       "      <td>NaN</td>\n",
       "    </tr>\n",
       "    <tr>\n",
       "      <th>273805</th>\n",
       "      <td>1112182</td>\n",
       "      <td>202304</td>\n",
       "      <td>84</td>\n",
       "      <td>3</td>\n",
       "      <td>2</td>\n",
       "      <td>6.0</td>\n",
       "    </tr>\n",
       "    <tr>\n",
       "      <th>284038</th>\n",
       "      <td>2845099</td>\n",
       "      <td>31189</td>\n",
       "      <td>11</td>\n",
       "      <td>3</td>\n",
       "      <td>2</td>\n",
       "      <td>7.0</td>\n",
       "    </tr>\n",
       "    <tr>\n",
       "      <th>311713</th>\n",
       "      <td>1021560</td>\n",
       "      <td>53767</td>\n",
       "      <td>3</td>\n",
       "      <td>3</td>\n",
       "      <td>2</td>\n",
       "      <td>9.0</td>\n",
       "    </tr>\n",
       "    <tr>\n",
       "      <th>321100</th>\n",
       "      <td>408114</td>\n",
       "      <td>68324</td>\n",
       "      <td>4</td>\n",
       "      <td>3</td>\n",
       "      <td>2</td>\n",
       "      <td>18.0</td>\n",
       "    </tr>\n",
       "    <tr>\n",
       "      <th>323900</th>\n",
       "      <td>1919531</td>\n",
       "      <td>191501</td>\n",
       "      <td>32</td>\n",
       "      <td>3</td>\n",
       "      <td>2</td>\n",
       "      <td>7.0</td>\n",
       "    </tr>\n",
       "    <tr>\n",
       "      <th>345917</th>\n",
       "      <td>2232988</td>\n",
       "      <td>82565</td>\n",
       "      <td>1</td>\n",
       "      <td>3</td>\n",
       "      <td>2</td>\n",
       "      <td>NaN</td>\n",
       "    </tr>\n",
       "    <tr>\n",
       "      <th>371905</th>\n",
       "      <td>391768</td>\n",
       "      <td>57671</td>\n",
       "      <td>19</td>\n",
       "      <td>3</td>\n",
       "      <td>2</td>\n",
       "      <td>10.0</td>\n",
       "    </tr>\n",
       "    <tr>\n",
       "      <th>394347</th>\n",
       "      <td>467134</td>\n",
       "      <td>63189</td>\n",
       "      <td>21</td>\n",
       "      <td>3</td>\n",
       "      <td>2</td>\n",
       "      <td>2.0</td>\n",
       "    </tr>\n",
       "    <tr>\n",
       "      <th>411408</th>\n",
       "      <td>1286742</td>\n",
       "      <td>183220</td>\n",
       "      <td>48</td>\n",
       "      <td>3</td>\n",
       "      <td>2</td>\n",
       "      <td>4.0</td>\n",
       "    </tr>\n",
       "    <tr>\n",
       "      <th>415163</th>\n",
       "      <td>2282673</td>\n",
       "      <td>86751</td>\n",
       "      <td>49</td>\n",
       "      <td>3</td>\n",
       "      <td>2</td>\n",
       "      <td>2.0</td>\n",
       "    </tr>\n",
       "    <tr>\n",
       "      <th>441599</th>\n",
       "      <td>2125197</td>\n",
       "      <td>14050</td>\n",
       "      <td>48</td>\n",
       "      <td>3</td>\n",
       "      <td>2</td>\n",
       "      <td>3.0</td>\n",
       "    </tr>\n",
       "  </tbody>\n",
       "</table>\n",
       "</div>"
      ],
      "text/plain": [
       "        order_id  user_id  order_number  order_dow  order_hour_of_day  \\\n",
       "145574    794638    50898            24          3                  2   \n",
       "223105   2160484   107525            16          3                  2   \n",
       "230807   1918001   188546            14          3                  2   \n",
       "266232   1782114   106752             1          3                  2   \n",
       "273805   1112182   202304            84          3                  2   \n",
       "284038   2845099    31189            11          3                  2   \n",
       "311713   1021560    53767             3          3                  2   \n",
       "321100    408114    68324             4          3                  2   \n",
       "323900   1919531   191501            32          3                  2   \n",
       "345917   2232988    82565             1          3                  2   \n",
       "371905    391768    57671            19          3                  2   \n",
       "394347    467134    63189            21          3                  2   \n",
       "411408   1286742   183220            48          3                  2   \n",
       "415163   2282673    86751            49          3                  2   \n",
       "441599   2125197    14050            48          3                  2   \n",
       "\n",
       "        days_since_prior_order  \n",
       "145574                     2.0  \n",
       "223105                    30.0  \n",
       "230807                    16.0  \n",
       "266232                     NaN  \n",
       "273805                     6.0  \n",
       "284038                     7.0  \n",
       "311713                     9.0  \n",
       "321100                    18.0  \n",
       "323900                     7.0  \n",
       "345917                     NaN  \n",
       "371905                    10.0  \n",
       "394347                     2.0  \n",
       "411408                     4.0  \n",
       "415163                     2.0  \n",
       "441599                     3.0  "
      ]
     },
     "metadata": {},
     "output_type": "display_data"
    },
    {
     "data": {
      "text/html": [
       "<div>\n",
       "<style scoped>\n",
       "    .dataframe tbody tr th:only-of-type {\n",
       "        vertical-align: middle;\n",
       "    }\n",
       "\n",
       "    .dataframe tbody tr th {\n",
       "        vertical-align: top;\n",
       "    }\n",
       "\n",
       "    .dataframe thead th {\n",
       "        text-align: right;\n",
       "    }\n",
       "</style>\n",
       "<table border=\"1\" class=\"dataframe\">\n",
       "  <thead>\n",
       "    <tr style=\"text-align: right;\">\n",
       "      <th></th>\n",
       "      <th>order_id</th>\n",
       "      <th>user_id</th>\n",
       "      <th>order_number</th>\n",
       "      <th>order_dow</th>\n",
       "      <th>order_hour_of_day</th>\n",
       "      <th>days_since_prior_order</th>\n",
       "    </tr>\n",
       "  </thead>\n",
       "  <tbody>\n",
       "    <tr>\n",
       "      <th>145574</th>\n",
       "      <td>794638</td>\n",
       "      <td>50898</td>\n",
       "      <td>24</td>\n",
       "      <td>3</td>\n",
       "      <td>2</td>\n",
       "      <td>2.0</td>\n",
       "    </tr>\n",
       "    <tr>\n",
       "      <th>223105</th>\n",
       "      <td>2160484</td>\n",
       "      <td>107525</td>\n",
       "      <td>16</td>\n",
       "      <td>3</td>\n",
       "      <td>2</td>\n",
       "      <td>30.0</td>\n",
       "    </tr>\n",
       "    <tr>\n",
       "      <th>230807</th>\n",
       "      <td>1918001</td>\n",
       "      <td>188546</td>\n",
       "      <td>14</td>\n",
       "      <td>3</td>\n",
       "      <td>2</td>\n",
       "      <td>16.0</td>\n",
       "    </tr>\n",
       "    <tr>\n",
       "      <th>266232</th>\n",
       "      <td>1782114</td>\n",
       "      <td>106752</td>\n",
       "      <td>1</td>\n",
       "      <td>3</td>\n",
       "      <td>2</td>\n",
       "      <td>NaN</td>\n",
       "    </tr>\n",
       "    <tr>\n",
       "      <th>273805</th>\n",
       "      <td>1112182</td>\n",
       "      <td>202304</td>\n",
       "      <td>84</td>\n",
       "      <td>3</td>\n",
       "      <td>2</td>\n",
       "      <td>6.0</td>\n",
       "    </tr>\n",
       "    <tr>\n",
       "      <th>284038</th>\n",
       "      <td>2845099</td>\n",
       "      <td>31189</td>\n",
       "      <td>11</td>\n",
       "      <td>3</td>\n",
       "      <td>2</td>\n",
       "      <td>7.0</td>\n",
       "    </tr>\n",
       "    <tr>\n",
       "      <th>311713</th>\n",
       "      <td>1021560</td>\n",
       "      <td>53767</td>\n",
       "      <td>3</td>\n",
       "      <td>3</td>\n",
       "      <td>2</td>\n",
       "      <td>9.0</td>\n",
       "    </tr>\n",
       "    <tr>\n",
       "      <th>321100</th>\n",
       "      <td>408114</td>\n",
       "      <td>68324</td>\n",
       "      <td>4</td>\n",
       "      <td>3</td>\n",
       "      <td>2</td>\n",
       "      <td>18.0</td>\n",
       "    </tr>\n",
       "    <tr>\n",
       "      <th>323900</th>\n",
       "      <td>1919531</td>\n",
       "      <td>191501</td>\n",
       "      <td>32</td>\n",
       "      <td>3</td>\n",
       "      <td>2</td>\n",
       "      <td>7.0</td>\n",
       "    </tr>\n",
       "    <tr>\n",
       "      <th>345917</th>\n",
       "      <td>2232988</td>\n",
       "      <td>82565</td>\n",
       "      <td>1</td>\n",
       "      <td>3</td>\n",
       "      <td>2</td>\n",
       "      <td>NaN</td>\n",
       "    </tr>\n",
       "    <tr>\n",
       "      <th>371905</th>\n",
       "      <td>391768</td>\n",
       "      <td>57671</td>\n",
       "      <td>19</td>\n",
       "      <td>3</td>\n",
       "      <td>2</td>\n",
       "      <td>10.0</td>\n",
       "    </tr>\n",
       "    <tr>\n",
       "      <th>394347</th>\n",
       "      <td>467134</td>\n",
       "      <td>63189</td>\n",
       "      <td>21</td>\n",
       "      <td>3</td>\n",
       "      <td>2</td>\n",
       "      <td>2.0</td>\n",
       "    </tr>\n",
       "    <tr>\n",
       "      <th>411408</th>\n",
       "      <td>1286742</td>\n",
       "      <td>183220</td>\n",
       "      <td>48</td>\n",
       "      <td>3</td>\n",
       "      <td>2</td>\n",
       "      <td>4.0</td>\n",
       "    </tr>\n",
       "    <tr>\n",
       "      <th>415163</th>\n",
       "      <td>2282673</td>\n",
       "      <td>86751</td>\n",
       "      <td>49</td>\n",
       "      <td>3</td>\n",
       "      <td>2</td>\n",
       "      <td>2.0</td>\n",
       "    </tr>\n",
       "    <tr>\n",
       "      <th>441599</th>\n",
       "      <td>2125197</td>\n",
       "      <td>14050</td>\n",
       "      <td>48</td>\n",
       "      <td>3</td>\n",
       "      <td>2</td>\n",
       "      <td>3.0</td>\n",
       "    </tr>\n",
       "  </tbody>\n",
       "</table>\n",
       "</div>"
      ],
      "text/plain": [
       "        order_id  user_id  order_number  order_dow  order_hour_of_day  \\\n",
       "145574    794638    50898            24          3                  2   \n",
       "223105   2160484   107525            16          3                  2   \n",
       "230807   1918001   188546            14          3                  2   \n",
       "266232   1782114   106752             1          3                  2   \n",
       "273805   1112182   202304            84          3                  2   \n",
       "284038   2845099    31189            11          3                  2   \n",
       "311713   1021560    53767             3          3                  2   \n",
       "321100    408114    68324             4          3                  2   \n",
       "323900   1919531   191501            32          3                  2   \n",
       "345917   2232988    82565             1          3                  2   \n",
       "371905    391768    57671            19          3                  2   \n",
       "394347    467134    63189            21          3                  2   \n",
       "411408   1286742   183220            48          3                  2   \n",
       "415163   2282673    86751            49          3                  2   \n",
       "441599   2125197    14050            48          3                  2   \n",
       "\n",
       "        days_since_prior_order  \n",
       "145574                     2.0  \n",
       "223105                    30.0  \n",
       "230807                    16.0  \n",
       "266232                     NaN  \n",
       "273805                     6.0  \n",
       "284038                     7.0  \n",
       "311713                     9.0  \n",
       "321100                    18.0  \n",
       "323900                     7.0  \n",
       "345917                     NaN  \n",
       "371905                    10.0  \n",
       "394347                     2.0  \n",
       "411408                     4.0  \n",
       "415163                     2.0  \n",
       "441599                     3.0  "
      ]
     },
     "metadata": {},
     "output_type": "display_data"
    },
    {
     "data": {
      "text/html": [
       "<div>\n",
       "<style scoped>\n",
       "    .dataframe tbody tr th:only-of-type {\n",
       "        vertical-align: middle;\n",
       "    }\n",
       "\n",
       "    .dataframe tbody tr th {\n",
       "        vertical-align: top;\n",
       "    }\n",
       "\n",
       "    .dataframe thead th {\n",
       "        text-align: right;\n",
       "    }\n",
       "</style>\n",
       "<table border=\"1\" class=\"dataframe\">\n",
       "  <thead>\n",
       "    <tr style=\"text-align: right;\">\n",
       "      <th></th>\n",
       "      <th>order_id</th>\n",
       "      <th>user_id</th>\n",
       "      <th>order_number</th>\n",
       "      <th>order_dow</th>\n",
       "      <th>order_hour_of_day</th>\n",
       "      <th>days_since_prior_order</th>\n",
       "    </tr>\n",
       "  </thead>\n",
       "  <tbody>\n",
       "  </tbody>\n",
       "</table>\n",
       "</div>"
      ],
      "text/plain": [
       "Empty DataFrame\n",
       "Columns: [order_id, user_id, order_number, order_dow, order_hour_of_day, days_since_prior_order]\n",
       "Index: []"
      ]
     },
     "metadata": {},
     "output_type": "display_data"
    }
   ],
   "source": [
    "## Check for all orders placed Wednesday at 2:00 AM\n",
    "\n",
    "# assuming 0 = Sunday, Wednesday = 3\n",
    "# applying filtering mask for all orders placed at Wed @ 2am\n",
    "orders_wed_2am = orders[(orders['order_dow'] == 3) & (orders['order_hour_of_day'] == 2)]\n",
    "\n",
    "# checking for duplicated values specific to Wed @ 2am\n",
    "print(\"Number of duplicate values specific to Wed @ 2am:   \", orders_wed_2am.duplicated().sum())\n",
    "\n",
    "# viewing the duplicated values specific to Wed @ 2am\n",
    "display(orders_wed_2am[orders_wed_2am.duplicated()])\n",
    "\n",
    "# searching for order_id from orders placed on wed @ 2am in the dupes dataframe to cross check\n",
    "display(dupes.query(\"order_id in @orders_wed_2am['order_id']\"))\n",
    "\n",
    "# seeing if any value from orders placed on wed @ 2am is NOT in the dupes dataframe \n",
    "# to confirm that all dupes are for wed @ 2am\n",
    "display(dupes.query(\"order_id not in @orders_wed_2am['order_id']\"))"
   ]
  },
  {
   "cell_type": "markdown",
   "id": "a3109120",
   "metadata": {},
   "source": [
    "<b>1.1 ‘orders’ DataFrame</b>\n",
    "\n",
    "<b>Task: Check for all orders placed Wednesday at 2:00 AM</b>\n",
    "\n",
    "All orders placed on Wednesday at 2 AM are also all 15 of the duplicate values found in the previous section.\n"
   ]
  },
  {
   "cell_type": "code",
   "execution_count": 10,
   "id": "480563c7",
   "metadata": {},
   "outputs": [],
   "source": [
    "## Remove duplicate orders\n",
    "\n",
    "# Given that all the values pertain to Wednesday at 2 am, and only 15 duplicate rows out of the 478k+ rows, \n",
    "# it is safe to drop these duplicates\n",
    "\n",
    "orders = orders.drop_duplicates().reset_index(drop=True)"
   ]
  },
  {
   "cell_type": "markdown",
   "id": "d0429bcc",
   "metadata": {},
   "source": [
    "<b>1.1 ‘orders’ DataFrame</b>\n",
    "\n",
    "<b>Task: Remove duplicate orders</b>\n",
    "\n",
    "Since all the duplicate values are specific to Wednesday at 2 AM, and there are only 15 duplicate rows out of the 478k+ rows, it is safe to drop these duplicates\n"
   ]
  },
  {
   "cell_type": "code",
   "execution_count": 11,
   "id": "0b2396a2",
   "metadata": {},
   "outputs": [
    {
     "name": "stdout",
     "output_type": "stream",
     "text": [
      "0\n"
     ]
    }
   ],
   "source": [
    "## Double check for duplicate rows\n",
    "\n",
    "# number of duplicate values\n",
    "print(orders.duplicated().sum())"
   ]
  },
  {
   "cell_type": "markdown",
   "id": "21b65a7a",
   "metadata": {},
   "source": [
    "<b>1.1 ‘orders’ DataFrame</b>\n",
    "\n",
    "<b>Task: Double-check for duplicate rows</b>\n",
    "\n",
    "\n",
    "Confirmed: there are no duplicate rows remaining in the </b>‘orders’</b> DataFrame\n",
    "\n"
   ]
  },
  {
   "cell_type": "code",
   "execution_count": 12,
   "id": "f6113ef1",
   "metadata": {},
   "outputs": [
    {
     "name": "stdout",
     "output_type": "stream",
     "text": [
      "0\n"
     ]
    }
   ],
   "source": [
    "## Double check for duplicate order IDs only\n",
    "print(orders['order_id'].duplicated().sum())"
   ]
  },
  {
   "cell_type": "markdown",
   "id": "a2214493",
   "metadata": {},
   "source": [
    "<b>1.1 ‘orders’ DataFrame</b>\n",
    "\n",
    "<b>Task: Double-check for duplicate order IDs only</b>\n",
    "\n",
    "Confirmed: there are no duplicate rows remaining in the ‘order_id’ column of the ‘orders’ DataFrame"
   ]
  },
  {
   "cell_type": "markdown",
   "id": "45e6bc46",
   "metadata": {},
   "source": [
    "### `products` data frame"
   ]
  },
  {
   "cell_type": "code",
   "execution_count": 13,
   "id": "5f526b5b-8175-46fa-a0fd-441767d50e64",
   "metadata": {},
   "outputs": [
    {
     "name": "stdout",
     "output_type": "stream",
     "text": [
      "0\n"
     ]
    }
   ],
   "source": [
    "## Check for fully duplicate rows\n",
    "\n",
    "# number of duplicate values\n",
    "print(products.duplicated().sum())"
   ]
  },
  {
   "cell_type": "markdown",
   "id": "ca9bb95a",
   "metadata": {},
   "source": [
    "<b>1.2  products DataFrame</b>\n",
    "\n",
    "<b>Task: Check for fully duplicate rows</b>\n",
    "\n",
    "There are no fully duplicate rows in the products DataFrame.\n"
   ]
  },
  {
   "cell_type": "code",
   "execution_count": 14,
   "id": "88daa4f4",
   "metadata": {},
   "outputs": [
    {
     "name": "stdout",
     "output_type": "stream",
     "text": [
      "0\n"
     ]
    }
   ],
   "source": [
    "## Check for just duplicate product IDs\n",
    "print(products['product_id'].duplicated().sum())"
   ]
  },
  {
   "cell_type": "markdown",
   "id": "25e945fa",
   "metadata": {},
   "source": [
    "<b>1.2  products DataFrame</b>\n",
    "\n",
    "<b>ask: Check for just duplicate product IDs</b>\n",
    "\n",
    "There are no duplicate rows in the ‘product_ID’ column in the DataFrame.\n"
   ]
  },
  {
   "cell_type": "code",
   "execution_count": 15,
   "id": "c773f0bf",
   "metadata": {
    "scrolled": true
   },
   "outputs": [
    {
     "name": "stdout",
     "output_type": "stream",
     "text": [
      "1361\n",
      "\n"
     ]
    },
    {
     "data": {
      "text/html": [
       "<div>\n",
       "<style scoped>\n",
       "    .dataframe tbody tr th:only-of-type {\n",
       "        vertical-align: middle;\n",
       "    }\n",
       "\n",
       "    .dataframe tbody tr th {\n",
       "        vertical-align: top;\n",
       "    }\n",
       "\n",
       "    .dataframe thead th {\n",
       "        text-align: right;\n",
       "    }\n",
       "</style>\n",
       "<table border=\"1\" class=\"dataframe\">\n",
       "  <thead>\n",
       "    <tr style=\"text-align: right;\">\n",
       "      <th></th>\n",
       "      <th>product_id</th>\n",
       "      <th>product_name</th>\n",
       "      <th>aisle_id</th>\n",
       "      <th>department_id</th>\n",
       "    </tr>\n",
       "  </thead>\n",
       "  <tbody>\n",
       "    <tr>\n",
       "      <th>71</th>\n",
       "      <td>72</td>\n",
       "      <td>NaN</td>\n",
       "      <td>100</td>\n",
       "      <td>21</td>\n",
       "    </tr>\n",
       "    <tr>\n",
       "      <th>109</th>\n",
       "      <td>110</td>\n",
       "      <td>NaN</td>\n",
       "      <td>100</td>\n",
       "      <td>21</td>\n",
       "    </tr>\n",
       "    <tr>\n",
       "      <th>296</th>\n",
       "      <td>297</td>\n",
       "      <td>NaN</td>\n",
       "      <td>100</td>\n",
       "      <td>21</td>\n",
       "    </tr>\n",
       "    <tr>\n",
       "      <th>416</th>\n",
       "      <td>417</td>\n",
       "      <td>NaN</td>\n",
       "      <td>100</td>\n",
       "      <td>21</td>\n",
       "    </tr>\n",
       "    <tr>\n",
       "      <th>436</th>\n",
       "      <td>437</td>\n",
       "      <td>NaN</td>\n",
       "      <td>100</td>\n",
       "      <td>21</td>\n",
       "    </tr>\n",
       "    <tr>\n",
       "      <th>...</th>\n",
       "      <td>...</td>\n",
       "      <td>...</td>\n",
       "      <td>...</td>\n",
       "      <td>...</td>\n",
       "    </tr>\n",
       "    <tr>\n",
       "      <th>49689</th>\n",
       "      <td>49690</td>\n",
       "      <td>high performance energy drink</td>\n",
       "      <td>64</td>\n",
       "      <td>7</td>\n",
       "    </tr>\n",
       "    <tr>\n",
       "      <th>49690</th>\n",
       "      <td>49691</td>\n",
       "      <td>original pancake &amp; waffle mix</td>\n",
       "      <td>130</td>\n",
       "      <td>14</td>\n",
       "    </tr>\n",
       "    <tr>\n",
       "      <th>49691</th>\n",
       "      <td>49692</td>\n",
       "      <td>organic instant oatmeal light maple brown sugar</td>\n",
       "      <td>130</td>\n",
       "      <td>14</td>\n",
       "    </tr>\n",
       "    <tr>\n",
       "      <th>49692</th>\n",
       "      <td>49693</td>\n",
       "      <td>spring water body wash</td>\n",
       "      <td>127</td>\n",
       "      <td>11</td>\n",
       "    </tr>\n",
       "    <tr>\n",
       "      <th>49693</th>\n",
       "      <td>49694</td>\n",
       "      <td>burrito- steak &amp; cheese</td>\n",
       "      <td>38</td>\n",
       "      <td>1</td>\n",
       "    </tr>\n",
       "  </tbody>\n",
       "</table>\n",
       "<p>1361 rows × 4 columns</p>\n",
       "</div>"
      ],
      "text/plain": [
       "       product_id                                     product_name  aisle_id  \\\n",
       "71             72                                              NaN       100   \n",
       "109           110                                              NaN       100   \n",
       "296           297                                              NaN       100   \n",
       "416           417                                              NaN       100   \n",
       "436           437                                              NaN       100   \n",
       "...           ...                                              ...       ...   \n",
       "49689       49690                    high performance energy drink        64   \n",
       "49690       49691                    original pancake & waffle mix       130   \n",
       "49691       49692  organic instant oatmeal light maple brown sugar       130   \n",
       "49692       49693                           spring water body wash       127   \n",
       "49693       49694                          burrito- steak & cheese        38   \n",
       "\n",
       "       department_id  \n",
       "71                21  \n",
       "109               21  \n",
       "296               21  \n",
       "416               21  \n",
       "436               21  \n",
       "...              ...  \n",
       "49689              7  \n",
       "49690             14  \n",
       "49691             14  \n",
       "49692             11  \n",
       "49693              1  \n",
       "\n",
       "[1361 rows x 4 columns]"
      ]
     },
     "metadata": {},
     "output_type": "display_data"
    }
   ],
   "source": [
    "## Check for just duplicate product names (convert names to lowercase to compare better)\n",
    "products['product_name'] = products['product_name'].str.lower()\n",
    "\n",
    "# number of duplicated values in the product_name column\n",
    "print(products['product_name'].duplicated().sum())\n",
    "print()\n",
    "\n",
    "# duplicated values in the product_name column\n",
    "display(products[products['product_name'].duplicated()])"
   ]
  },
  {
   "cell_type": "markdown",
   "id": "d9bcbd37",
   "metadata": {},
   "source": [
    "<b>1.2  products DataFrame</b>\n",
    "\n",
    "<b>Task: Check for just duplicate product names (convert names to lowercase to compare better)</b>\n",
    "\n",
    "After converting all strings to lowercase for a better comparison, there are 1, 361 values in the <b>‘product_name’</b>column of DataFrame. For an excerpt on the output of said values and their associated rows, see output above."
   ]
  },
  {
   "cell_type": "code",
   "execution_count": 16,
   "id": "01efd02e",
   "metadata": {},
   "outputs": [
    {
     "data": {
      "text/html": [
       "<div>\n",
       "<style scoped>\n",
       "    .dataframe tbody tr th:only-of-type {\n",
       "        vertical-align: middle;\n",
       "    }\n",
       "\n",
       "    .dataframe tbody tr th {\n",
       "        vertical-align: top;\n",
       "    }\n",
       "\n",
       "    .dataframe thead th {\n",
       "        text-align: right;\n",
       "    }\n",
       "</style>\n",
       "<table border=\"1\" class=\"dataframe\">\n",
       "  <thead>\n",
       "    <tr style=\"text-align: right;\">\n",
       "      <th></th>\n",
       "      <th>product_id</th>\n",
       "      <th>product_name</th>\n",
       "      <th>aisle_id</th>\n",
       "      <th>department_id</th>\n",
       "    </tr>\n",
       "  </thead>\n",
       "  <tbody>\n",
       "    <tr>\n",
       "      <th>2058</th>\n",
       "      <td>2059</td>\n",
       "      <td>biotin 1000 mcg</td>\n",
       "      <td>47</td>\n",
       "      <td>11</td>\n",
       "    </tr>\n",
       "    <tr>\n",
       "      <th>5455</th>\n",
       "      <td>5456</td>\n",
       "      <td>green tea with ginseng and honey</td>\n",
       "      <td>96</td>\n",
       "      <td>20</td>\n",
       "    </tr>\n",
       "    <tr>\n",
       "      <th>5558</th>\n",
       "      <td>5559</td>\n",
       "      <td>cream of mushroom soup</td>\n",
       "      <td>69</td>\n",
       "      <td>15</td>\n",
       "    </tr>\n",
       "    <tr>\n",
       "      <th>7558</th>\n",
       "      <td>7559</td>\n",
       "      <td>cinnamon rolls with icing</td>\n",
       "      <td>105</td>\n",
       "      <td>13</td>\n",
       "    </tr>\n",
       "    <tr>\n",
       "      <th>9037</th>\n",
       "      <td>9038</td>\n",
       "      <td>american cheese slices</td>\n",
       "      <td>21</td>\n",
       "      <td>16</td>\n",
       "    </tr>\n",
       "    <tr>\n",
       "      <th>...</th>\n",
       "      <td>...</td>\n",
       "      <td>...</td>\n",
       "      <td>...</td>\n",
       "      <td>...</td>\n",
       "    </tr>\n",
       "    <tr>\n",
       "      <th>49689</th>\n",
       "      <td>49690</td>\n",
       "      <td>high performance energy drink</td>\n",
       "      <td>64</td>\n",
       "      <td>7</td>\n",
       "    </tr>\n",
       "    <tr>\n",
       "      <th>49690</th>\n",
       "      <td>49691</td>\n",
       "      <td>original pancake &amp; waffle mix</td>\n",
       "      <td>130</td>\n",
       "      <td>14</td>\n",
       "    </tr>\n",
       "    <tr>\n",
       "      <th>49691</th>\n",
       "      <td>49692</td>\n",
       "      <td>organic instant oatmeal light maple brown sugar</td>\n",
       "      <td>130</td>\n",
       "      <td>14</td>\n",
       "    </tr>\n",
       "    <tr>\n",
       "      <th>49692</th>\n",
       "      <td>49693</td>\n",
       "      <td>spring water body wash</td>\n",
       "      <td>127</td>\n",
       "      <td>11</td>\n",
       "    </tr>\n",
       "    <tr>\n",
       "      <th>49693</th>\n",
       "      <td>49694</td>\n",
       "      <td>burrito- steak &amp; cheese</td>\n",
       "      <td>38</td>\n",
       "      <td>1</td>\n",
       "    </tr>\n",
       "  </tbody>\n",
       "</table>\n",
       "<p>104 rows × 4 columns</p>\n",
       "</div>"
      ],
      "text/plain": [
       "       product_id                                     product_name  aisle_id  \\\n",
       "2058         2059                                  biotin 1000 mcg        47   \n",
       "5455         5456                 green tea with ginseng and honey        96   \n",
       "5558         5559                           cream of mushroom soup        69   \n",
       "7558         7559                        cinnamon rolls with icing       105   \n",
       "9037         9038                           american cheese slices        21   \n",
       "...           ...                                              ...       ...   \n",
       "49689       49690                    high performance energy drink        64   \n",
       "49690       49691                    original pancake & waffle mix       130   \n",
       "49691       49692  organic instant oatmeal light maple brown sugar       130   \n",
       "49692       49693                           spring water body wash       127   \n",
       "49693       49694                          burrito- steak & cheese        38   \n",
       "\n",
       "       department_id  \n",
       "2058              11  \n",
       "5455              20  \n",
       "5558              15  \n",
       "7558              13  \n",
       "9037              16  \n",
       "...              ...  \n",
       "49689              7  \n",
       "49690             14  \n",
       "49691             14  \n",
       "49692             11  \n",
       "49693              1  \n",
       "\n",
       "[104 rows x 4 columns]"
      ]
     },
     "metadata": {},
     "output_type": "display_data"
    }
   ],
   "source": [
    "## Check for duplicate product names that aren't missing\n",
    "\n",
    "# assign all duplicate values to variable\n",
    "dup_prod_name = products[products['product_name'].duplicated()]\n",
    "\n",
    "# assign all non-null values to variable\n",
    "dup_prod_name = dup_prod_name[~dup_prod_name['product_name'].isna()]\n",
    "\n",
    "display(dup_prod_name)"
   ]
  },
  {
   "cell_type": "markdown",
   "id": "61dad94c",
   "metadata": {},
   "source": [
    "<b>1.2  products DataFrame</b>\n",
    "\n",
    "<b>Task: Check for duplicate product names that aren't missing</b>\n",
    "\n",
    "Of the duplicate product names, 104 rows are free of missing values. \n"
   ]
  },
  {
   "cell_type": "markdown",
   "id": "60f30db1",
   "metadata": {},
   "source": [
    "### `departments` data frame"
   ]
  },
  {
   "cell_type": "code",
   "execution_count": 17,
   "id": "fb410ad4-0fbf-4b80-bb09-23fdea79afe3",
   "metadata": {},
   "outputs": [
    {
     "name": "stdout",
     "output_type": "stream",
     "text": [
      "0\n"
     ]
    }
   ],
   "source": [
    "## Check for fully duplicate rows\n",
    "\n",
    "# number of duplicate values\n",
    "print(depts.duplicated().sum())"
   ]
  },
  {
   "cell_type": "markdown",
   "id": "39100a6f",
   "metadata": {},
   "source": [
    "<b>1.3  departments DataFrame</b>\n",
    "\n",
    "<b> Task: Check for fully duplicate rows</b>\n",
    "\n",
    "There are no fully duplicate rows in the <b>departments</b> DataFrame"
   ]
  },
  {
   "cell_type": "code",
   "execution_count": 18,
   "id": "332b12bb",
   "metadata": {
    "scrolled": true
   },
   "outputs": [
    {
     "name": "stdout",
     "output_type": "stream",
     "text": [
      "0\n",
      "\n",
      "0\n"
     ]
    }
   ],
   "source": [
    "# Check for just duplicate department IDs\n",
    "print(depts['department_id'].duplicated().sum()), print()\n",
    "\n",
    "# Check for just duplicate departments (convert names to lowercase for better comparison)\n",
    "depts['department'] = depts['department'].str.lower()\n",
    "\n",
    "# number of duplicated values in the 'department' column\n",
    "print(depts['department'].duplicated().sum())"
   ]
  },
  {
   "cell_type": "markdown",
   "id": "b9cd3abe",
   "metadata": {},
   "source": [
    "<b>1.3  departments DataFrame</b>\n",
    "\n",
    "<b>Task: Check for just duplicate department IDs</b>\n",
    "\n",
    "There are no duplicate rows in the <b>‘department_ID’</b> column in the DataFrame"
   ]
  },
  {
   "cell_type": "markdown",
   "id": "bd30d78e",
   "metadata": {},
   "source": []
  },
  {
   "cell_type": "markdown",
   "id": "889349c1",
   "metadata": {},
   "source": [
    "### `aisles` data frame"
   ]
  },
  {
   "cell_type": "code",
   "execution_count": 19,
   "id": "9da89fb9-4679-40f5-ad0d-c34df753a3f8",
   "metadata": {},
   "outputs": [
    {
     "name": "stdout",
     "output_type": "stream",
     "text": [
      "0\n"
     ]
    }
   ],
   "source": [
    "## Check for fully duplicate rows\n",
    "\n",
    "# number of obvious duplicate values\n",
    "print(aisles.duplicated().sum())"
   ]
  },
  {
   "cell_type": "markdown",
   "id": "5e4e7b4c",
   "metadata": {},
   "source": [
    "<b>1.4  aisles DataFrame</b>\n",
    "\n",
    "<b> Task: Check for fully duplicate rows</b>\n",
    "\n",
    "There are no fully duplicate rows in the <b>aisles</b> DataFrame"
   ]
  },
  {
   "cell_type": "code",
   "execution_count": 20,
   "id": "da7c2822",
   "metadata": {},
   "outputs": [
    {
     "name": "stdout",
     "output_type": "stream",
     "text": [
      "0\n",
      "\n",
      "0\n"
     ]
    }
   ],
   "source": [
    "# Check for just duplicate aisle ID\n",
    "print(aisles['aisle_id'].duplicated().sum()), print()\n",
    "\n",
    "# Check for just duplicate aisle (convert names to lowercase for better comparison)\n",
    "aisles['aisle'] = aisles['aisle'].str.lower()\n",
    "\n",
    "# number of duplicated values in the 'aisle' column\n",
    "print(aisles['aisle'].duplicated().sum())"
   ]
  },
  {
   "cell_type": "markdown",
   "id": "723fbf0b",
   "metadata": {},
   "source": [
    "<b>1.4  aisles DataFrame</b>\n",
    "\n",
    "<b>Task: Check for just duplicate aisle IDs and aisle names</b>\n",
    "\n",
    "There are no duplicate rows in the <b>‘aisle_ID’</b> and <b>‘aisle’</b>column in the DataFrame"
   ]
  },
  {
   "cell_type": "markdown",
   "id": "ac63826f",
   "metadata": {},
   "source": []
  },
  {
   "cell_type": "markdown",
   "id": "274cd06a",
   "metadata": {},
   "source": [
    "### `order_products` data frame"
   ]
  },
  {
   "cell_type": "code",
   "execution_count": 21,
   "id": "52326689-84a8-4b8f-a881-7c68780f62c9",
   "metadata": {},
   "outputs": [
    {
     "name": "stdout",
     "output_type": "stream",
     "text": [
      "0\n"
     ]
    }
   ],
   "source": [
    "## Check for fully duplicate rows\n",
    "\n",
    "# number of obvious duplicate values\n",
    "print(order_products.duplicated().sum())"
   ]
  },
  {
   "cell_type": "markdown",
   "id": "f70b6de2",
   "metadata": {},
   "source": [
    "<b>1.5  order_products DataFrame</b>\n",
    "\n",
    "<b> Task: Check for fully duplicate rows</b>\n",
    "\n",
    "There are no fully duplicate rows in the <b>order_products</b> DataFrame"
   ]
  },
  {
   "cell_type": "code",
   "execution_count": 22,
   "id": "7b861391",
   "metadata": {},
   "outputs": [
    {
     "data": {
      "text/plain": [
       "0"
      ]
     },
     "execution_count": 22,
     "metadata": {},
     "output_type": "execute_result"
    }
   ],
   "source": [
    "## Double check for any other tricky duplicates\n",
    "order_products.duplicated(subset=['order_id', 'product_id']).sum()"
   ]
  },
  {
   "cell_type": "markdown",
   "id": "0c355941",
   "metadata": {},
   "source": [
    "<b>1.5 order_products DataFrame</b>\n",
    "\n",
    "<b>Task: Double-check for any other tricky duplicates</b>\n",
    "\n",
    "Assuming that repeated cart add of the same product in the same order would go under a separate potential column labeled <b>'quantity'</b>, I decided to see if there were any duplicate row where the <b>order_id</b> and <b>product_id</b> were repeated. \n",
    "\n",
    "However, after searching, there are no duplicate rows under just <b>order_id</b> and <b>product_id</b> in the DataFrame"
   ]
  },
  {
   "cell_type": "markdown",
   "id": "1e46de76",
   "metadata": {},
   "source": [
    "## Find and remove missing values\n"
   ]
  },
  {
   "cell_type": "markdown",
   "id": "c0aebd78",
   "metadata": {},
   "source": [
    "### `products` data frame"
   ]
  },
  {
   "cell_type": "code",
   "execution_count": 23,
   "id": "fe4a8b0f",
   "metadata": {},
   "outputs": [
    {
     "name": "stdout",
     "output_type": "stream",
     "text": [
      "product_id          0\n",
      "product_name     1258\n",
      "aisle_id            0\n",
      "department_id       0\n",
      "dtype: int64\n"
     ]
    },
    {
     "data": {
      "text/html": [
       "<div>\n",
       "<style scoped>\n",
       "    .dataframe tbody tr th:only-of-type {\n",
       "        vertical-align: middle;\n",
       "    }\n",
       "\n",
       "    .dataframe tbody tr th {\n",
       "        vertical-align: top;\n",
       "    }\n",
       "\n",
       "    .dataframe thead th {\n",
       "        text-align: right;\n",
       "    }\n",
       "</style>\n",
       "<table border=\"1\" class=\"dataframe\">\n",
       "  <thead>\n",
       "    <tr style=\"text-align: right;\">\n",
       "      <th></th>\n",
       "      <th>product_id</th>\n",
       "      <th>product_name</th>\n",
       "      <th>aisle_id</th>\n",
       "      <th>department_id</th>\n",
       "    </tr>\n",
       "  </thead>\n",
       "  <tbody>\n",
       "    <tr>\n",
       "      <th>37</th>\n",
       "      <td>38</td>\n",
       "      <td>NaN</td>\n",
       "      <td>100</td>\n",
       "      <td>21</td>\n",
       "    </tr>\n",
       "    <tr>\n",
       "      <th>71</th>\n",
       "      <td>72</td>\n",
       "      <td>NaN</td>\n",
       "      <td>100</td>\n",
       "      <td>21</td>\n",
       "    </tr>\n",
       "    <tr>\n",
       "      <th>109</th>\n",
       "      <td>110</td>\n",
       "      <td>NaN</td>\n",
       "      <td>100</td>\n",
       "      <td>21</td>\n",
       "    </tr>\n",
       "    <tr>\n",
       "      <th>296</th>\n",
       "      <td>297</td>\n",
       "      <td>NaN</td>\n",
       "      <td>100</td>\n",
       "      <td>21</td>\n",
       "    </tr>\n",
       "    <tr>\n",
       "      <th>416</th>\n",
       "      <td>417</td>\n",
       "      <td>NaN</td>\n",
       "      <td>100</td>\n",
       "      <td>21</td>\n",
       "    </tr>\n",
       "    <tr>\n",
       "      <th>...</th>\n",
       "      <td>...</td>\n",
       "      <td>...</td>\n",
       "      <td>...</td>\n",
       "      <td>...</td>\n",
       "    </tr>\n",
       "    <tr>\n",
       "      <th>49552</th>\n",
       "      <td>49553</td>\n",
       "      <td>NaN</td>\n",
       "      <td>100</td>\n",
       "      <td>21</td>\n",
       "    </tr>\n",
       "    <tr>\n",
       "      <th>49574</th>\n",
       "      <td>49575</td>\n",
       "      <td>NaN</td>\n",
       "      <td>100</td>\n",
       "      <td>21</td>\n",
       "    </tr>\n",
       "    <tr>\n",
       "      <th>49640</th>\n",
       "      <td>49641</td>\n",
       "      <td>NaN</td>\n",
       "      <td>100</td>\n",
       "      <td>21</td>\n",
       "    </tr>\n",
       "    <tr>\n",
       "      <th>49663</th>\n",
       "      <td>49664</td>\n",
       "      <td>NaN</td>\n",
       "      <td>100</td>\n",
       "      <td>21</td>\n",
       "    </tr>\n",
       "    <tr>\n",
       "      <th>49668</th>\n",
       "      <td>49669</td>\n",
       "      <td>NaN</td>\n",
       "      <td>100</td>\n",
       "      <td>21</td>\n",
       "    </tr>\n",
       "  </tbody>\n",
       "</table>\n",
       "<p>1258 rows × 4 columns</p>\n",
       "</div>"
      ],
      "text/plain": [
       "       product_id product_name  aisle_id  department_id\n",
       "37             38          NaN       100             21\n",
       "71             72          NaN       100             21\n",
       "109           110          NaN       100             21\n",
       "296           297          NaN       100             21\n",
       "416           417          NaN       100             21\n",
       "...           ...          ...       ...            ...\n",
       "49552       49553          NaN       100             21\n",
       "49574       49575          NaN       100             21\n",
       "49640       49641          NaN       100             21\n",
       "49663       49664          NaN       100             21\n",
       "49668       49669          NaN       100             21\n",
       "\n",
       "[1258 rows x 4 columns]"
      ]
     },
     "execution_count": 23,
     "metadata": {},
     "output_type": "execute_result"
    }
   ],
   "source": [
    "# checking to see which columns have missing values using isna() and sum()\n",
    "print(products.isna().sum())\n",
    "\n",
    "# rows with missing values in the 'product_name' column\n",
    "products[products['product_name'].isna()]"
   ]
  },
  {
   "cell_type": "markdown",
   "id": "3fbae82f",
   "metadata": {},
   "source": [
    "<b>2.1 products DataFrame</b>\n",
    "\n",
    "After checking to see which columns in the <b>products</b> DataFrame has missing values, it was confirmed that there are 1,258 values missing in the <b>'product'</b> column only. For an excerpt of said missing values, see output above."
   ]
  },
  {
   "cell_type": "code",
   "execution_count": 24,
   "id": "e96167bc",
   "metadata": {
    "scrolled": true
   },
   "outputs": [
    {
     "name": "stdout",
     "output_type": "stream",
     "text": [
      "100    1258\n",
      "Name: aisle_id, dtype: int64\n"
     ]
    }
   ],
   "source": [
    "## Are all of the missing product names associated with aisle ID 100?\n",
    "print(products[(products['product_name'].isna()) & (products['aisle_id'] == 100)]['aisle_id'].value_counts())"
   ]
  },
  {
   "cell_type": "markdown",
   "id": "0fdd66b9",
   "metadata": {},
   "source": [
    "<b>2.1 products DataFrame</b>\n",
    "\n",
    "<b>Task: Are all of the missing product names associated with aisle ID 100?</b>\n",
    "\n",
    "Yes, since the <b>'product_name'</b> column has 1,258 rows with missing values and the number of missing product names associated with <b>'aisle ID 100'</b> is also 1,258."
   ]
  },
  {
   "cell_type": "code",
   "execution_count": 25,
   "id": "8fd0a541",
   "metadata": {},
   "outputs": [
    {
     "name": "stdout",
     "output_type": "stream",
     "text": [
      "21    1258\n",
      "Name: department_id, dtype: int64\n"
     ]
    }
   ],
   "source": [
    "## Are all of the missing product names associated with department ID 21?\n",
    "print(products[(products['product_name'].isna()) \n",
    "               & (products['department_id'] == 21)]['department_id'].value_counts())"
   ]
  },
  {
   "cell_type": "markdown",
   "id": "d0d4dd98",
   "metadata": {},
   "source": [
    "<b>2.1 products DataFrame</b>\n",
    "\n",
    "<b>Task: Are all of the missing product names associated with department ID 21?</b>\n",
    "\n",
    "Yes, since the <b>'department_id</b> column has 1,258 rows with missing values and the number of missing product names associated with <b>'department ID 21'</b> is also 1,258."
   ]
  },
  {
   "cell_type": "code",
   "execution_count": 26,
   "id": "50a03b14",
   "metadata": {},
   "outputs": [
    {
     "data": {
      "text/html": [
       "<div>\n",
       "<style scoped>\n",
       "    .dataframe tbody tr th:only-of-type {\n",
       "        vertical-align: middle;\n",
       "    }\n",
       "\n",
       "    .dataframe tbody tr th {\n",
       "        vertical-align: top;\n",
       "    }\n",
       "\n",
       "    .dataframe thead th {\n",
       "        text-align: right;\n",
       "    }\n",
       "</style>\n",
       "<table border=\"1\" class=\"dataframe\">\n",
       "  <thead>\n",
       "    <tr style=\"text-align: right;\">\n",
       "      <th></th>\n",
       "      <th>aisle_id</th>\n",
       "      <th>aisle</th>\n",
       "    </tr>\n",
       "  </thead>\n",
       "  <tbody>\n",
       "    <tr>\n",
       "      <th>99</th>\n",
       "      <td>100</td>\n",
       "      <td>missing</td>\n",
       "    </tr>\n",
       "  </tbody>\n",
       "</table>\n",
       "</div>"
      ],
      "text/plain": [
       "    aisle_id    aisle\n",
       "99       100  missing"
      ]
     },
     "metadata": {},
     "output_type": "display_data"
    },
    {
     "name": "stdout",
     "output_type": "stream",
     "text": [
      "\n"
     ]
    },
    {
     "data": {
      "text/html": [
       "<div>\n",
       "<style scoped>\n",
       "    .dataframe tbody tr th:only-of-type {\n",
       "        vertical-align: middle;\n",
       "    }\n",
       "\n",
       "    .dataframe tbody tr th {\n",
       "        vertical-align: top;\n",
       "    }\n",
       "\n",
       "    .dataframe thead th {\n",
       "        text-align: right;\n",
       "    }\n",
       "</style>\n",
       "<table border=\"1\" class=\"dataframe\">\n",
       "  <thead>\n",
       "    <tr style=\"text-align: right;\">\n",
       "      <th></th>\n",
       "      <th>department_id</th>\n",
       "      <th>department</th>\n",
       "    </tr>\n",
       "  </thead>\n",
       "  <tbody>\n",
       "    <tr>\n",
       "      <th>20</th>\n",
       "      <td>21</td>\n",
       "      <td>missing</td>\n",
       "    </tr>\n",
       "  </tbody>\n",
       "</table>\n",
       "</div>"
      ],
      "text/plain": [
       "    department_id department\n",
       "20             21    missing"
      ]
     },
     "metadata": {},
     "output_type": "display_data"
    }
   ],
   "source": [
    "## What is this ailse and department?\n",
    "\n",
    "display(aisles[(aisles['aisle_id'] == 100)])\n",
    "print()\n",
    "display(depts[(depts['department_id'] == 21)])"
   ]
  },
  {
   "cell_type": "markdown",
   "id": "450eac63",
   "metadata": {},
   "source": [
    "<b>2.1 products DataFrame</b>\n",
    "\n",
    "<b>Task: What is this aisle and department?</b>\n",
    "\n",
    "The department ID 100 and aisle ID 21 are associated with <b>'missing'</b> in the aisles and departments columns. This could potentially indicate the values in both id (i.e., <b>'aisle_id'</b>, <b>'department_id'</b>) and id_name column (i.e., <b>'aisle'</b>, <b>department</b>) are representative of missing or placeholder information in the dataset for these specific IDs."
   ]
  },
  {
   "cell_type": "code",
   "execution_count": 27,
   "id": "6b295120",
   "metadata": {
    "scrolled": true
   },
   "outputs": [
    {
     "name": "stdout",
     "output_type": "stream",
     "text": [
      "product_id       0\n",
      "product_name     0\n",
      "aisle_id         0\n",
      "department_id    0\n",
      "dtype: int64\n"
     ]
    }
   ],
   "source": [
    "## Fill missing product names with 'Unknown'\n",
    "products['product_name'] = products['product_name'].fillna('Unknown')\n",
    "\n",
    "# Double checking all NaN values were replaced \n",
    "print(products.isna().sum())"
   ]
  },
  {
   "cell_type": "markdown",
   "id": "4700f1fc",
   "metadata": {},
   "source": [
    "<b>2.1 products DataFrame</b>\n",
    "\n",
    "<b>Task: Fill missing product names with 'Unknown'</b>\n",
    "\n",
    "All missing product names were replaced with <b>Unkown</b> and the <b>products</b> DataFrame was double-checked for any remaining missing values. Confirmed: none are remaining in any column. "
   ]
  },
  {
   "cell_type": "markdown",
   "id": "7eb45c86",
   "metadata": {},
   "source": [
    "### `orders` data frame"
   ]
  },
  {
   "cell_type": "code",
   "execution_count": 28,
   "id": "93e41d96",
   "metadata": {
    "scrolled": false
   },
   "outputs": [
    {
     "name": "stdout",
     "output_type": "stream",
     "text": [
      "order_id                      0\n",
      "user_id                       0\n",
      "order_number                  0\n",
      "order_dow                     0\n",
      "order_hour_of_day             0\n",
      "days_since_prior_order    28817\n",
      "dtype: int64\n",
      "\n"
     ]
    },
    {
     "data": {
      "text/html": [
       "<div>\n",
       "<style scoped>\n",
       "    .dataframe tbody tr th:only-of-type {\n",
       "        vertical-align: middle;\n",
       "    }\n",
       "\n",
       "    .dataframe tbody tr th {\n",
       "        vertical-align: top;\n",
       "    }\n",
       "\n",
       "    .dataframe thead th {\n",
       "        text-align: right;\n",
       "    }\n",
       "</style>\n",
       "<table border=\"1\" class=\"dataframe\">\n",
       "  <thead>\n",
       "    <tr style=\"text-align: right;\">\n",
       "      <th></th>\n",
       "      <th>order_id</th>\n",
       "      <th>user_id</th>\n",
       "      <th>order_number</th>\n",
       "      <th>order_dow</th>\n",
       "      <th>order_hour_of_day</th>\n",
       "      <th>days_since_prior_order</th>\n",
       "    </tr>\n",
       "  </thead>\n",
       "  <tbody>\n",
       "    <tr>\n",
       "      <th>28</th>\n",
       "      <td>133707</td>\n",
       "      <td>182261</td>\n",
       "      <td>1</td>\n",
       "      <td>3</td>\n",
       "      <td>10</td>\n",
       "      <td>NaN</td>\n",
       "    </tr>\n",
       "    <tr>\n",
       "      <th>96</th>\n",
       "      <td>787445</td>\n",
       "      <td>25685</td>\n",
       "      <td>1</td>\n",
       "      <td>6</td>\n",
       "      <td>18</td>\n",
       "      <td>NaN</td>\n",
       "    </tr>\n",
       "    <tr>\n",
       "      <th>100</th>\n",
       "      <td>294410</td>\n",
       "      <td>111449</td>\n",
       "      <td>1</td>\n",
       "      <td>0</td>\n",
       "      <td>19</td>\n",
       "      <td>NaN</td>\n",
       "    </tr>\n",
       "    <tr>\n",
       "      <th>103</th>\n",
       "      <td>2869915</td>\n",
       "      <td>123958</td>\n",
       "      <td>1</td>\n",
       "      <td>4</td>\n",
       "      <td>16</td>\n",
       "      <td>NaN</td>\n",
       "    </tr>\n",
       "    <tr>\n",
       "      <th>104</th>\n",
       "      <td>2521921</td>\n",
       "      <td>42286</td>\n",
       "      <td>1</td>\n",
       "      <td>3</td>\n",
       "      <td>18</td>\n",
       "      <td>NaN</td>\n",
       "    </tr>\n",
       "    <tr>\n",
       "      <th>...</th>\n",
       "      <td>...</td>\n",
       "      <td>...</td>\n",
       "      <td>...</td>\n",
       "      <td>...</td>\n",
       "      <td>...</td>\n",
       "      <td>...</td>\n",
       "    </tr>\n",
       "    <tr>\n",
       "      <th>478880</th>\n",
       "      <td>2589657</td>\n",
       "      <td>205028</td>\n",
       "      <td>1</td>\n",
       "      <td>0</td>\n",
       "      <td>16</td>\n",
       "      <td>NaN</td>\n",
       "    </tr>\n",
       "    <tr>\n",
       "      <th>478881</th>\n",
       "      <td>2222353</td>\n",
       "      <td>141211</td>\n",
       "      <td>1</td>\n",
       "      <td>2</td>\n",
       "      <td>13</td>\n",
       "      <td>NaN</td>\n",
       "    </tr>\n",
       "    <tr>\n",
       "      <th>478907</th>\n",
       "      <td>2272807</td>\n",
       "      <td>204154</td>\n",
       "      <td>1</td>\n",
       "      <td>1</td>\n",
       "      <td>15</td>\n",
       "      <td>NaN</td>\n",
       "    </tr>\n",
       "    <tr>\n",
       "      <th>478911</th>\n",
       "      <td>2499542</td>\n",
       "      <td>68810</td>\n",
       "      <td>1</td>\n",
       "      <td>4</td>\n",
       "      <td>19</td>\n",
       "      <td>NaN</td>\n",
       "    </tr>\n",
       "    <tr>\n",
       "      <th>478930</th>\n",
       "      <td>1387033</td>\n",
       "      <td>22496</td>\n",
       "      <td>1</td>\n",
       "      <td>5</td>\n",
       "      <td>14</td>\n",
       "      <td>NaN</td>\n",
       "    </tr>\n",
       "  </tbody>\n",
       "</table>\n",
       "<p>28817 rows × 6 columns</p>\n",
       "</div>"
      ],
      "text/plain": [
       "        order_id  user_id  order_number  order_dow  order_hour_of_day  \\\n",
       "28        133707   182261             1          3                 10   \n",
       "96        787445    25685             1          6                 18   \n",
       "100       294410   111449             1          0                 19   \n",
       "103      2869915   123958             1          4                 16   \n",
       "104      2521921    42286             1          3                 18   \n",
       "...          ...      ...           ...        ...                ...   \n",
       "478880   2589657   205028             1          0                 16   \n",
       "478881   2222353   141211             1          2                 13   \n",
       "478907   2272807   204154             1          1                 15   \n",
       "478911   2499542    68810             1          4                 19   \n",
       "478930   1387033    22496             1          5                 14   \n",
       "\n",
       "        days_since_prior_order  \n",
       "28                         NaN  \n",
       "96                         NaN  \n",
       "100                        NaN  \n",
       "103                        NaN  \n",
       "104                        NaN  \n",
       "...                        ...  \n",
       "478880                     NaN  \n",
       "478881                     NaN  \n",
       "478907                     NaN  \n",
       "478911                     NaN  \n",
       "478930                     NaN  \n",
       "\n",
       "[28817 rows x 6 columns]"
      ]
     },
     "metadata": {},
     "output_type": "display_data"
    }
   ],
   "source": [
    "# checking to see which columns have missing values\n",
    "print(orders.isna().sum())\n",
    "print()\n",
    "\n",
    "# rows of missing values specific to column \n",
    "display(orders[(orders['days_since_prior_order'].isna())])"
   ]
  },
  {
   "cell_type": "markdown",
   "id": "919dc91e",
   "metadata": {},
   "source": [
    "<b>2.2 orders DataFrame</b>\n",
    "\n",
    "After checking to see which columns in the <b>orders</b> DataFrame has missing values, it was confirmed that there are 28,817 values missing in the <b>'days_since_prior_order'</b> column only. For an excerpt of said missing values, see output above."
   ]
  },
  {
   "cell_type": "code",
   "execution_count": 29,
   "id": "dfff3430",
   "metadata": {},
   "outputs": [
    {
     "data": {
      "text/html": [
       "<div>\n",
       "<style scoped>\n",
       "    .dataframe tbody tr th:only-of-type {\n",
       "        vertical-align: middle;\n",
       "    }\n",
       "\n",
       "    .dataframe tbody tr th {\n",
       "        vertical-align: top;\n",
       "    }\n",
       "\n",
       "    .dataframe thead th {\n",
       "        text-align: right;\n",
       "    }\n",
       "</style>\n",
       "<table border=\"1\" class=\"dataframe\">\n",
       "  <thead>\n",
       "    <tr style=\"text-align: right;\">\n",
       "      <th></th>\n",
       "      <th>order_id</th>\n",
       "      <th>user_id</th>\n",
       "      <th>order_number</th>\n",
       "      <th>order_dow</th>\n",
       "      <th>order_hour_of_day</th>\n",
       "      <th>days_since_prior_order</th>\n",
       "    </tr>\n",
       "  </thead>\n",
       "  <tbody>\n",
       "  </tbody>\n",
       "</table>\n",
       "</div>"
      ],
      "text/plain": [
       "Empty DataFrame\n",
       "Columns: [order_id, user_id, order_number, order_dow, order_hour_of_day, days_since_prior_order]\n",
       "Index: []"
      ]
     },
     "metadata": {},
     "output_type": "display_data"
    }
   ],
   "source": [
    "## Are there any missing values where it's not a customer's first order?\n",
    "\n",
    "# mask applied to condition !=\n",
    "\n",
    "display(orders[(orders['days_since_prior_order'].isna()) & (orders['order_number'] != 1)])"
   ]
  },
  {
   "cell_type": "markdown",
   "id": "ca5c1a31",
   "metadata": {},
   "source": [
    "<b>2.2 orders DataFrame</b>\n",
    "<b> Task: Are there any missing values where it's not a customer's first order?</b>\n",
    "\n",
    "There are no missing values found for when it's NOT a customer's first order."
   ]
  },
  {
   "cell_type": "code",
   "execution_count": 30,
   "id": "166e5a86",
   "metadata": {},
   "outputs": [
    {
     "name": "stdout",
     "output_type": "stream",
     "text": [
      "order_id                  0\n",
      "user_id                   0\n",
      "order_number              0\n",
      "order_dow                 0\n",
      "order_hour_of_day         0\n",
      "days_since_prior_order    0\n",
      "dtype: int64\n",
      "\n",
      "<class 'pandas.core.frame.DataFrame'>\n",
      "RangeIndex: 478952 entries, 0 to 478951\n",
      "Data columns (total 6 columns):\n",
      " #   Column                  Non-Null Count   Dtype  \n",
      "---  ------                  --------------   -----  \n",
      " 0   order_id                478952 non-null  int64  \n",
      " 1   user_id                 478952 non-null  int64  \n",
      " 2   order_number            478952 non-null  int64  \n",
      " 3   order_dow               478952 non-null  int64  \n",
      " 4   order_hour_of_day       478952 non-null  int64  \n",
      " 5   days_since_prior_order  478952 non-null  float64\n",
      "dtypes: float64(1), int64(5)\n",
      "memory usage: 21.9 MB\n"
     ]
    }
   ],
   "source": [
    "# since all values apply to condition, assigning 0 float type to fill in missing values\n",
    "orders['days_since_prior_order'] = orders['days_since_prior_order'].fillna(0.0)\n",
    "\n",
    "# check for any null values \n",
    "print(orders.isna().sum())\n",
    "print()\n",
    "orders.info()"
   ]
  },
  {
   "cell_type": "markdown",
   "id": "15e71567",
   "metadata": {},
   "source": [
    "<b>2.2 orders DataFrame</b>\n",
    "\n",
    "Since all values apply to condition, missing values were replaced with <b>'0'</b> type <b>float</b> to fill in missing values."
   ]
  },
  {
   "cell_type": "markdown",
   "id": "69dc9ca4",
   "metadata": {},
   "source": [
    "### `order_products` data frame"
   ]
  },
  {
   "cell_type": "code",
   "execution_count": 31,
   "id": "b8240253",
   "metadata": {},
   "outputs": [
    {
     "name": "stdout",
     "output_type": "stream",
     "text": [
      "order_id               0\n",
      "product_id             0\n",
      "add_to_cart_order    836\n",
      "reordered              0\n",
      "dtype: int64\n",
      "\n"
     ]
    },
    {
     "data": {
      "text/html": [
       "<div>\n",
       "<style scoped>\n",
       "    .dataframe tbody tr th:only-of-type {\n",
       "        vertical-align: middle;\n",
       "    }\n",
       "\n",
       "    .dataframe tbody tr th {\n",
       "        vertical-align: top;\n",
       "    }\n",
       "\n",
       "    .dataframe thead th {\n",
       "        text-align: right;\n",
       "    }\n",
       "</style>\n",
       "<table border=\"1\" class=\"dataframe\">\n",
       "  <thead>\n",
       "    <tr style=\"text-align: right;\">\n",
       "      <th></th>\n",
       "      <th>order_id</th>\n",
       "      <th>product_id</th>\n",
       "      <th>add_to_cart_order</th>\n",
       "      <th>reordered</th>\n",
       "    </tr>\n",
       "  </thead>\n",
       "  <tbody>\n",
       "    <tr>\n",
       "      <th>737</th>\n",
       "      <td>2449164</td>\n",
       "      <td>5068</td>\n",
       "      <td>NaN</td>\n",
       "      <td>0</td>\n",
       "    </tr>\n",
       "    <tr>\n",
       "      <th>9926</th>\n",
       "      <td>1968313</td>\n",
       "      <td>43867</td>\n",
       "      <td>NaN</td>\n",
       "      <td>0</td>\n",
       "    </tr>\n",
       "    <tr>\n",
       "      <th>14394</th>\n",
       "      <td>2926893</td>\n",
       "      <td>11688</td>\n",
       "      <td>NaN</td>\n",
       "      <td>0</td>\n",
       "    </tr>\n",
       "    <tr>\n",
       "      <th>16418</th>\n",
       "      <td>1717990</td>\n",
       "      <td>4142</td>\n",
       "      <td>NaN</td>\n",
       "      <td>0</td>\n",
       "    </tr>\n",
       "    <tr>\n",
       "      <th>30114</th>\n",
       "      <td>1959075</td>\n",
       "      <td>42828</td>\n",
       "      <td>NaN</td>\n",
       "      <td>1</td>\n",
       "    </tr>\n",
       "    <tr>\n",
       "      <th>...</th>\n",
       "      <td>...</td>\n",
       "      <td>...</td>\n",
       "      <td>...</td>\n",
       "      <td>...</td>\n",
       "    </tr>\n",
       "    <tr>\n",
       "      <th>4505662</th>\n",
       "      <td>1800005</td>\n",
       "      <td>7411</td>\n",
       "      <td>NaN</td>\n",
       "      <td>0</td>\n",
       "    </tr>\n",
       "    <tr>\n",
       "      <th>4511400</th>\n",
       "      <td>1633337</td>\n",
       "      <td>260</td>\n",
       "      <td>NaN</td>\n",
       "      <td>0</td>\n",
       "    </tr>\n",
       "    <tr>\n",
       "      <th>4517562</th>\n",
       "      <td>404157</td>\n",
       "      <td>9517</td>\n",
       "      <td>NaN</td>\n",
       "      <td>0</td>\n",
       "    </tr>\n",
       "    <tr>\n",
       "      <th>4534112</th>\n",
       "      <td>1673227</td>\n",
       "      <td>17835</td>\n",
       "      <td>NaN</td>\n",
       "      <td>0</td>\n",
       "    </tr>\n",
       "    <tr>\n",
       "      <th>4535739</th>\n",
       "      <td>1832957</td>\n",
       "      <td>17949</td>\n",
       "      <td>NaN</td>\n",
       "      <td>1</td>\n",
       "    </tr>\n",
       "  </tbody>\n",
       "</table>\n",
       "<p>836 rows × 4 columns</p>\n",
       "</div>"
      ],
      "text/plain": [
       "         order_id  product_id  add_to_cart_order  reordered\n",
       "737       2449164        5068                NaN          0\n",
       "9926      1968313       43867                NaN          0\n",
       "14394     2926893       11688                NaN          0\n",
       "16418     1717990        4142                NaN          0\n",
       "30114     1959075       42828                NaN          1\n",
       "...           ...         ...                ...        ...\n",
       "4505662   1800005        7411                NaN          0\n",
       "4511400   1633337         260                NaN          0\n",
       "4517562    404157        9517                NaN          0\n",
       "4534112   1673227       17835                NaN          0\n",
       "4535739   1832957       17949                NaN          1\n",
       "\n",
       "[836 rows x 4 columns]"
      ]
     },
     "metadata": {},
     "output_type": "display_data"
    },
    {
     "name": "stdout",
     "output_type": "stream",
     "text": [
      "\n"
     ]
    }
   ],
   "source": [
    "# checking to see which columns have missing values\n",
    "print(order_products.isna().sum())\n",
    "print()\n",
    "\n",
    "# rows of missing values specific to column \n",
    "display(order_products[(order_products['add_to_cart_order'].isna())])\n",
    "print()"
   ]
  },
  {
   "cell_type": "markdown",
   "id": "3ef03ba2",
   "metadata": {},
   "source": [
    "<b>2.3 order_products DataFrame</b>\n",
    "\n",
    "After checking to see which columns in the <b>order_products</b> DataFrame has missing values, it was confirmed that there are 836 values missing in the <b>'add_to_cart_order'</b> column only. For an excerpt of said missing values, see output above."
   ]
  },
  {
   "cell_type": "code",
   "execution_count": 32,
   "id": "9a78e5ee",
   "metadata": {
    "scrolled": true
   },
   "outputs": [
    {
     "name": "stdout",
     "output_type": "stream",
     "text": [
      "min:    1.0\n",
      "\n",
      "max:    64.0\n"
     ]
    }
   ],
   "source": [
    "## What are the min and max values in this column?\n",
    "\n",
    "# min value\n",
    "print(\"min:   \", order_products['add_to_cart_order'].min())\n",
    "print()\n",
    "\n",
    "# max value\n",
    "print(\"max:   \", order_products['add_to_cart_order'].max())"
   ]
  },
  {
   "cell_type": "markdown",
   "id": "337cf297",
   "metadata": {},
   "source": [
    "<b>2.3 order_products DataFrame</b>\n",
    "\n",
    "<b>Task: What are the min and max values in this column?</b>\n",
    "\n",
    "The minimum value for the <b>'add_to_cart_order'</b> column is:    1.0\n",
    "\n",
    "The maximum value for the <b>'add_to_cart_order'</b> column is:    64.0"
   ]
  },
  {
   "cell_type": "code",
   "execution_count": 33,
   "id": "ab9d0c2b",
   "metadata": {
    "scrolled": true
   },
   "outputs": [
    {
     "name": "stdout",
     "output_type": "stream",
     "text": [
      "order_id               0\n",
      "product_id             0\n",
      "add_to_cart_order    836\n",
      "reordered              0\n",
      "dtype: int64\n",
      "\n",
      "<class 'pandas.core.frame.DataFrame'>\n",
      "Int64Index: 836 entries, 737 to 4535739\n",
      "Data columns (total 4 columns):\n",
      " #   Column             Non-Null Count  Dtype  \n",
      "---  ------             --------------  -----  \n",
      " 0   order_id           836 non-null    int64  \n",
      " 1   product_id         836 non-null    int64  \n",
      " 2   add_to_cart_order  0 non-null      float64\n",
      " 3   reordered          836 non-null    int64  \n",
      "dtypes: float64(1), int64(3)\n",
      "memory usage: 32.7 KB\n",
      "None\n"
     ]
    }
   ],
   "source": [
    "## Save all order IDs with at least one missing value in 'add_to_cart_order'\n",
    "\n",
    "# saving all order IDs with at least one missing missing value into variable order_ids\n",
    "order_ids = order_products[(order_products['add_to_cart_order'].isna())]\n",
    "\n",
    "\n",
    "# total counts of new df\n",
    "print(order_ids.isna().sum())\n",
    "print()\n",
    "print(order_ids.info(show_counts=True))"
   ]
  },
  {
   "cell_type": "markdown",
   "id": "9500edec",
   "metadata": {},
   "source": [
    "<b>2.3 order_products DataFrame</b>\n",
    "\n",
    "<b>Task: Save all order IDs with at least one missing value in 'add_to_cart_order'</b>\n",
    "\n",
    "As specified, all order IDs with at least one missing value in the <b>'add_to_cart_order'</b> has been saved into the DataFrame variable <b>order_ids</b>."
   ]
  },
  {
   "cell_type": "code",
   "execution_count": 34,
   "id": "54c31695",
   "metadata": {},
   "outputs": [
    {
     "name": "stdout",
     "output_type": "stream",
     "text": [
      "64.0\n"
     ]
    }
   ],
   "source": [
    "## Do all orders with missing values have more than 64 products?\n",
    "\n",
    "# saving all orders associated with missing values in the original df into missing_variable\n",
    "missing_v = order_products.query(\"order_id in @order_ids['order_id']\")\n",
    "\n",
    "# saving all maximum values of add_to_cart_order column for the associated order_id number\n",
    "max_val = missing_v.groupby('order_id')['add_to_cart_order'].max()\n",
    "\n",
    "# looking at maximum value of all maximum values\n",
    "print(max_val.max())"
   ]
  },
  {
   "cell_type": "markdown",
   "id": "1ff5f0e7",
   "metadata": {},
   "source": [
    "<b>2.3 order_products DataFrame</b>\n",
    "\n",
    "<b>Task: Do all orders with missing values have more than 64 products?</b>\n",
    "\n",
    "After searching to see if all missing values have more than 64 products, it was confirmed that there were no orders with more than the specified amount of cart items as the maximum value of cart items is 64."
   ]
  },
  {
   "cell_type": "code",
   "execution_count": 35,
   "id": "7a987d08",
   "metadata": {},
   "outputs": [
    {
     "name": "stdout",
     "output_type": "stream",
     "text": [
      "order_id             0\n",
      "product_id           0\n",
      "add_to_cart_order    0\n",
      "reordered            0\n",
      "dtype: int64\n",
      "\n",
      "<class 'pandas.core.frame.DataFrame'>\n",
      "RangeIndex: 4545007 entries, 0 to 4545006\n",
      "Data columns (total 4 columns):\n",
      " #   Column             Non-Null Count    Dtype\n",
      "---  ------             --------------    -----\n",
      " 0   order_id           4545007 non-null  int64\n",
      " 1   product_id         4545007 non-null  int64\n",
      " 2   add_to_cart_order  4545007 non-null  int64\n",
      " 3   reordered          4545007 non-null  int64\n",
      "dtypes: int64(4)\n",
      "memory usage: 138.7 MB\n",
      "None\n"
     ]
    }
   ],
   "source": [
    "## Replace missing values with 999 and convert column to integer type\n",
    "\n",
    "# replacing missing values in original dataframe\n",
    "order_products['add_to_cart_order'] = order_products['add_to_cart_order'].fillna(999).astype(int)\n",
    "\n",
    "# double checking for any null values\n",
    "print(order_products.isna().sum())\n",
    "print()\n",
    "print(order_products.info(show_counts=True))"
   ]
  },
  {
   "cell_type": "markdown",
   "id": "eeb777c4",
   "metadata": {},
   "source": [
    "<b>2.3 order_products DataFrame</b>\n",
    "\n",
    "<b>Task: Replace missing values with 999 and convert column to integer type</b>\n",
    "\n",
    "As requested, all missing values were replaced with <b>'999'</b> and converted to type <b>int</b>. DataFrame confirmed to have no remaining null values. "
   ]
  },
  {
   "cell_type": "markdown",
   "id": "turkish-kidney",
   "metadata": {},
   "source": [
    "# [A] Easy (must complete all to pass)"
   ]
  },
  {
   "cell_type": "markdown",
   "id": "short-capability",
   "metadata": {},
   "source": [
    "### [A1] Verify that the `'order_hour_of_day'` and `'order_dow'` values in the `orders` tables are sensible (i.e. `'order_hour_of_day'` ranges from 0 to 23 and `'order_dow'` ranges from 0 to 6)"
   ]
  },
  {
   "cell_type": "code",
   "execution_count": 36,
   "id": "accessory-malaysia",
   "metadata": {},
   "outputs": [
    {
     "name": "stdout",
     "output_type": "stream",
     "text": [
      "Order hour of day values:    [0, 1, 2, 3, 4, 5, 6, 7, 8, 9, 10, 11, 12, 13, 14, 15, 16, 17, 18, 19, 20, 21, 22, 23]\n",
      "Order day of week values:    [0, 1, 2, 3, 4, 5, 6]\n"
     ]
    }
   ],
   "source": [
    "# confirming order hour of day values\n",
    "print(\"Order hour of day values:   \", sorted(orders['order_hour_of_day'].unique()))\n",
    "\n",
    "# confirming day of week values\n",
    "print(\"Order day of week values:   \", sorted(orders['order_dow'].unique()))"
   ]
  },
  {
   "cell_type": "markdown",
   "id": "9d168486",
   "metadata": {},
   "source": [
    "<b>2.4 [A1]</b>\n",
    "\n",
    "<b>Task: Verify that the 'order_hour_of_day' and 'order_dow' values in the orders tables are sensible</b>\n",
    "\n",
    "As requested, all values in both <b>'order_hour_of_day</b> and <b>'order_dow'</b> columns are sensible representations of their associated variable."
   ]
  },
  {
   "cell_type": "markdown",
   "id": "a6743a70",
   "metadata": {},
   "source": [
    "### [A2] What time of day do people shop for groceries?"
   ]
  },
  {
   "cell_type": "code",
   "execution_count": 37,
   "id": "36928cc4",
   "metadata": {},
   "outputs": [
    {
     "data": {
      "text/plain": [
       "count    478952.000000\n",
       "mean         13.447034\n",
       "std           4.224567\n",
       "min           0.000000\n",
       "25%          10.000000\n",
       "50%          13.000000\n",
       "75%          16.000000\n",
       "max          23.000000\n",
       "Name: order_hour_of_day, dtype: float64"
      ]
     },
     "metadata": {},
     "output_type": "display_data"
    },
    {
     "data": {
      "image/png": "[encoded data removed]",
      "text/plain": [
       "<Figure size 720x360 with 1 Axes>"
      ]
     },
     "metadata": {
      "needs_background": "light"
     },
     "output_type": "display_data"
    }
   ],
   "source": [
    "# viewing the data\n",
    "display(orders['order_hour_of_day'].describe())\n",
    "\n",
    "# saving total number of orders made during each hour of day into count variable \n",
    "counts_hod = orders['order_hour_of_day'].value_counts()\n",
    "\n",
    "# setting up x-axis to represent hour of day frequency in chronological order\n",
    "hour_of_day_freq = counts_hod.sort_index()\n",
    "\n",
    "# plotting bar chart for 24hr time\n",
    "hour_of_day_freq.plot(kind='bar', \n",
    "                      title='Instacart: What time of day do people shop for groceries?',\n",
    "                      xlabel='Time of Day (24HR)',\n",
    "                      ylabel='Number of Orders Placed',\n",
    "                      rot=60,\n",
    "                      figsize=[10, 5]\n",
    "                     )\n",
    "plt.show()"
   ]
  },
  {
   "cell_type": "code",
   "execution_count": 38,
   "id": "a36cca27",
   "metadata": {
    "scrolled": false
   },
   "outputs": [
    {
     "data": {
      "image/png": "[encoded data removed]",
      "text/plain": [
       "<Figure size 720x360 with 1 Axes>"
      ]
     },
     "metadata": {
      "needs_background": "light"
     },
     "output_type": "display_data"
    }
   ],
   "source": [
    "# converting from 24hr to 12hr time and formatting using strftime\n",
    "hour_of_day_freq.index = pd.to_datetime(hour_of_day_freq.index, format='%H').strftime('%I %p')\n",
    "\n",
    "# plotting bar chart for 12hr time\n",
    "hour_of_day_freq.plot(kind='bar', \n",
    "                      title='Instacart: What time of day do people shop for groceries?',\n",
    "                      xlabel='Time of Day (12HR)',\n",
    "                      ylabel='Number of Orders Placed',\n",
    "                      rot=60,\n",
    "                      figsize=[10, 5]\n",
    "                     )\n",
    "plt.show()"
   ]
  },
  {
   "cell_type": "markdown",
   "id": "5e78b82e",
   "metadata": {},
   "source": [
    "<b>2.5 [A2]</b>\n",
    "\n",
    "<b>Task: What time of day do people shop for groceries?</b>\n",
    "\n",
    "Charts created above reflect the frequency of each hour of the day from when orders were placed and reflect 24hr and 12hr times, respectively.\n",
    "\n",
    "The top 5 hours for shopping are 10AM, 11AM, 3PM, 2PM, 1PM. The average hour of the day when orders were placed is approximately 13.45. This suggests that, on average, orders are placed around mid-afternoon (i.e. between 1PM - 2PM). 25% of the orders were placed before 10AM; 50% of the orders were placed before 1PM; and 75% of the orders were placed before 4PM."
   ]
  },
  {
   "cell_type": "markdown",
   "id": "11270eed",
   "metadata": {},
   "source": []
  },
  {
   "cell_type": "markdown",
   "id": "documented-command",
   "metadata": {},
   "source": [
    "### [A3] What day of the week do people shop for groceries?"
   ]
  },
  {
   "cell_type": "code",
   "execution_count": 39,
   "id": "e792c773",
   "metadata": {},
   "outputs": [
    {
     "data": {
      "text/html": [
       "<div>\n",
       "<style scoped>\n",
       "    .dataframe tbody tr th:only-of-type {\n",
       "        vertical-align: middle;\n",
       "    }\n",
       "\n",
       "    .dataframe tbody tr th {\n",
       "        vertical-align: top;\n",
       "    }\n",
       "\n",
       "    .dataframe thead th {\n",
       "        text-align: right;\n",
       "    }\n",
       "</style>\n",
       "<table border=\"1\" class=\"dataframe\">\n",
       "  <thead>\n",
       "    <tr style=\"text-align: right;\">\n",
       "      <th></th>\n",
       "      <th>order_id</th>\n",
       "      <th>user_id</th>\n",
       "      <th>order_number</th>\n",
       "      <th>order_dow</th>\n",
       "      <th>order_hour_of_day</th>\n",
       "      <th>days_since_prior_order</th>\n",
       "    </tr>\n",
       "  </thead>\n",
       "  <tbody>\n",
       "    <tr>\n",
       "      <th>310935</th>\n",
       "      <td>827544</td>\n",
       "      <td>35782</td>\n",
       "      <td>3</td>\n",
       "      <td>4</td>\n",
       "      <td>15</td>\n",
       "      <td>5.0</td>\n",
       "    </tr>\n",
       "    <tr>\n",
       "      <th>249698</th>\n",
       "      <td>1944284</td>\n",
       "      <td>91700</td>\n",
       "      <td>16</td>\n",
       "      <td>0</td>\n",
       "      <td>20</td>\n",
       "      <td>7.0</td>\n",
       "    </tr>\n",
       "    <tr>\n",
       "      <th>387292</th>\n",
       "      <td>1855696</td>\n",
       "      <td>87084</td>\n",
       "      <td>2</td>\n",
       "      <td>1</td>\n",
       "      <td>15</td>\n",
       "      <td>3.0</td>\n",
       "    </tr>\n",
       "    <tr>\n",
       "      <th>456490</th>\n",
       "      <td>34873</td>\n",
       "      <td>4018</td>\n",
       "      <td>3</td>\n",
       "      <td>6</td>\n",
       "      <td>12</td>\n",
       "      <td>30.0</td>\n",
       "    </tr>\n",
       "    <tr>\n",
       "      <th>340545</th>\n",
       "      <td>2897870</td>\n",
       "      <td>32092</td>\n",
       "      <td>23</td>\n",
       "      <td>3</td>\n",
       "      <td>9</td>\n",
       "      <td>1.0</td>\n",
       "    </tr>\n",
       "  </tbody>\n",
       "</table>\n",
       "</div>"
      ],
      "text/plain": [
       "        order_id  user_id  order_number  order_dow  order_hour_of_day  \\\n",
       "310935    827544    35782             3          4                 15   \n",
       "249698   1944284    91700            16          0                 20   \n",
       "387292   1855696    87084             2          1                 15   \n",
       "456490     34873     4018             3          6                 12   \n",
       "340545   2897870    32092            23          3                  9   \n",
       "\n",
       "        days_since_prior_order  \n",
       "310935                     5.0  \n",
       "249698                     7.0  \n",
       "387292                     3.0  \n",
       "456490                    30.0  \n",
       "340545                     1.0  "
      ]
     },
     "execution_count": 39,
     "metadata": {},
     "output_type": "execute_result"
    }
   ],
   "source": [
    "# viewing the data\n",
    "orders['order_dow'].describe()\n",
    "orders.sample(5)"
   ]
  },
  {
   "cell_type": "code",
   "execution_count": 40,
   "id": "d16bdde3",
   "metadata": {},
   "outputs": [
    {
     "data": {
      "image/png": "[encoded data removed]",
      "text/plain": [
       "<Figure size 720x432 with 1 Axes>"
      ]
     },
     "metadata": {
      "needs_background": "light"
     },
     "output_type": "display_data"
    },
    {
     "data": {
      "text/plain": [
       "count    478952.000000\n",
       "mean          2.775051\n",
       "std           2.045901\n",
       "min           0.000000\n",
       "25%           1.000000\n",
       "50%           3.000000\n",
       "75%           5.000000\n",
       "max           6.000000\n",
       "Name: order_dow, dtype: float64"
      ]
     },
     "execution_count": 40,
     "metadata": {},
     "output_type": "execute_result"
    }
   ],
   "source": [
    "# saving total number of orders made on each day into variable to represent day of week frequency\n",
    "counts_dow = orders['order_dow'].value_counts()\n",
    "\n",
    "# setting up x-axis & resetting index \n",
    "order_dow_freq = counts_dow.sort_index()\n",
    "order_dow_freq.index = ['Sun.','Mon.','Tues.','Wed.','Thurs.','Fri.','Sat.']\n",
    "\n",
    "# setting up the bar chart\n",
    "order_dow_freq.plot(x=order_dow_freq, \n",
    "                    kind='bar', \n",
    "                    title='Instacart: What day of the week do people shop for groceries?',\n",
    "                    xlabel='Day of the Week',\n",
    "                    ylabel='Number of Orders Placed',\n",
    "                    rot=60,\n",
    "                    figsize=[10, 6],\n",
    "                    fontsize=12\n",
    "                    )\n",
    "plt.show()\n",
    "\n",
    "orders['order_dow'].describe()"
   ]
  },
  {
   "cell_type": "markdown",
   "id": "63ea8287",
   "metadata": {},
   "source": [
    "<b>2.6 [A3]</b>\n",
    "\n",
    "<b>Task: What day of the week do people shop for groceries?</b>\n",
    "\n",
    "The chart created above reflects the frequency of each day of the week from when orders were placed.\n",
    "\n",
    "Assuming the scale corresponds to Sunday = 0 and Saturday = 6, the top 3 days for shopping are shop Sunday, Monday, & Tuesday. The average day of the week when orders were placed is approximately 2.78. A mean of 2.78 indicates on average, orders are placed between Tuesday and Wednesday. 25% of the orders were placed on or before Monday (1); 50% of the orders were placed on or before Wednesday (3); and 75% of the orders were placed on or before Friday (5)."
   ]
  },
  {
   "cell_type": "markdown",
   "id": "dominant-lightning",
   "metadata": {},
   "source": []
  },
  {
   "cell_type": "markdown",
   "id": "cutting-concert",
   "metadata": {},
   "source": [
    "### [A4] How long do people wait until placing another order?"
   ]
  },
  {
   "cell_type": "code",
   "execution_count": 41,
   "id": "7761633d",
   "metadata": {},
   "outputs": [
    {
     "name": "stdout",
     "output_type": "stream",
     "text": [
      "<class 'pandas.core.frame.DataFrame'>\n",
      "RangeIndex: 478952 entries, 0 to 478951\n",
      "Data columns (total 6 columns):\n",
      " #   Column                  Non-Null Count   Dtype  \n",
      "---  ------                  --------------   -----  \n",
      " 0   order_id                478952 non-null  int64  \n",
      " 1   user_id                 478952 non-null  int64  \n",
      " 2   order_number            478952 non-null  int64  \n",
      " 3   order_dow               478952 non-null  int64  \n",
      " 4   order_hour_of_day       478952 non-null  int64  \n",
      " 5   days_since_prior_order  478952 non-null  float64\n",
      "dtypes: float64(1), int64(5)\n",
      "memory usage: 21.9 MB\n"
     ]
    }
   ],
   "source": [
    "# viewing the data \n",
    "orders.info()"
   ]
  },
  {
   "cell_type": "code",
   "execution_count": 42,
   "id": "44705a0e",
   "metadata": {},
   "outputs": [
    {
     "data": {
      "text/plain": [
       "30.0    51337\n",
       "7.0     44577\n",
       "0.0     38406\n",
       "6.0     33930\n",
       "4.0     31006\n",
       "3.0     30224\n",
       "5.0     30096\n",
       "2.0     27138\n",
       "8.0     25361\n",
       "1.0     20179\n",
       "9.0     16753\n",
       "14.0    13992\n",
       "10.0    13309\n",
       "13.0    11737\n",
       "11.0    11467\n",
       "12.0    10658\n",
       "15.0     9416\n",
       "16.0     6587\n",
       "21.0     6448\n",
       "17.0     5498\n",
       "20.0     5302\n",
       "18.0     4971\n",
       "19.0     4939\n",
       "22.0     4514\n",
       "28.0     3745\n",
       "23.0     3337\n",
       "24.0     3015\n",
       "27.0     2986\n",
       "25.0     2711\n",
       "29.0     2673\n",
       "26.0     2640\n",
       "Name: days_since_prior_order, dtype: int64"
      ]
     },
     "execution_count": 42,
     "metadata": {},
     "output_type": "execute_result"
    }
   ],
   "source": [
    "# viewing frequency of each time period (e.g., 1 day to 30 days) since last order\n",
    "orders['days_since_prior_order'].value_counts()"
   ]
  },
  {
   "cell_type": "markdown",
   "id": "discrete-vertex",
   "metadata": {},
   "source": []
  },
  {
   "cell_type": "code",
   "execution_count": 43,
   "id": "ab14b285",
   "metadata": {},
   "outputs": [
    {
     "data": {
      "image/png": "[encoded data removed]",
      "text/plain": [
       "<Figure size 864x360 with 1 Axes>"
      ]
     },
     "metadata": {
      "needs_background": "light"
     },
     "output_type": "display_data"
    },
    {
     "data": {
      "text/plain": [
       "count    478952.000000\n",
       "mean         10.433853\n",
       "std           9.292153\n",
       "min           0.000000\n",
       "25%           4.000000\n",
       "50%           7.000000\n",
       "75%          15.000000\n",
       "max          30.000000\n",
       "Name: days_since_prior_order, dtype: float64"
      ]
     },
     "metadata": {},
     "output_type": "display_data"
    }
   ],
   "source": [
    "# creating histogram \n",
    "orders['days_since_prior_order'].plot(kind='hist',\n",
    "                                      title='Instacart: How long do people wait until placing another order?',\n",
    "                                      bins=30,\n",
    "                                      figsize = [12,5]\n",
    "                                     ) \n",
    "\n",
    "plt.xlabel('Days Since Previous Order Was Placed (0 - 30 days)')\n",
    "plt.ylabel('Number of Orders Placed')\n",
    "\n",
    "plt.show()\n",
    "\n",
    "display(orders['days_since_prior_order'].describe())"
   ]
  },
  {
   "cell_type": "markdown",
   "id": "a04f7963",
   "metadata": {},
   "source": [
    "<b>2.7 [A4]</b>\n",
    "\n",
    "<b>Task: How long do people wait until placing another order?</b>\n",
    "\n",
    "The chart created above reflects the frequency of each time period (e.g., 1 day to 30 days) since the last order was placed by the customer.\n",
    "\n",
    "The two most common waiting periods observed before customers place another order are approximately one month and one week. The average time people wait between orders is approximately 10 days. 25% of customers wait 4 days or less before placing another order; 50% of customers wait 7 days or less between orders; and 75% of customers wait 15 days or less before placing another order."
   ]
  },
  {
   "cell_type": "markdown",
   "id": "tight-staff",
   "metadata": {},
   "source": [
    "# [B] Medium (must complete all to pass)"
   ]
  },
  {
   "cell_type": "markdown",
   "id": "packed-classic",
   "metadata": {},
   "source": [
    "### [B1] Is there a difference in `'order_hour_of_day'` distributions on Wednesdays and Saturdays? Plot the histograms for both days and describe the differences that you see."
   ]
  },
  {
   "cell_type": "code",
   "execution_count": 44,
   "id": "754f16e4",
   "metadata": {},
   "outputs": [
    {
     "data": {
      "image/png": "[encoded data removed]",
      "text/plain": [
       "<Figure size 864x360 with 1 Axes>"
      ]
     },
     "metadata": {
      "needs_background": "light"
     },
     "output_type": "display_data"
    }
   ],
   "source": [
    "# viewing data\n",
    "orders[(orders['order_dow'] == 3) | (orders['order_dow'] == 6)]\n",
    "\n",
    "# Wednesday distribution for Order Hour of Day\n",
    "orders[(orders['order_dow'] == 3)]['order_hour_of_day'].plot(kind='hist',\n",
    "                                                             bins=24, color='green',\n",
    "                                                             alpha=0.5)\n",
    "\n",
    "# Saturday distribution for Order Hour of Day\n",
    "orders[(orders['order_dow'] == 6)]['order_hour_of_day'].plot(kind='hist', \n",
    "                                                             title='Orders Placed on Wednesday & Friday',\n",
    "                                                             bins =24,\n",
    "                                                             alpha=0.3,\n",
    "                                                             figsize=[12,5]\n",
    "                                                            )\n",
    "\n",
    "# Set x-axis label\n",
    "plt.xlabel('Hour of the Day (24-hour format)')\n",
    "\n",
    "# Set x-axis ticks and labels\n",
    "plt.xticks(range(24))  # 0 to 23\n",
    "\n",
    "# Set y-axis label\n",
    "plt.ylabel('Number of Orders Placed')\n",
    "\n",
    "# Legend\n",
    "plt.legend(['Wednesdays', 'Fridays'])\n",
    "\n",
    "plt.show()"
   ]
  },
  {
   "cell_type": "markdown",
   "id": "7fde8878",
   "metadata": {},
   "source": [
    "<b>2.8 [B1]</b>\n",
    "\n",
    "<b>Task: Is there a difference in 'order_hour_of_day' distributions on Wednesdays and Saturdays? Plot the histograms for both days and describe the differences that you see.</b>\n",
    "\n",
    "There's a difference in number of orders placed on the two days. That is, Fridays see more orders placed between 10AM and 3PM compared to Wednesdays. But, for the most part, both days have a similar distribution."
   ]
  },
  {
   "cell_type": "markdown",
   "id": "e3891143",
   "metadata": {},
   "source": [
    "### [B2] What's the distribution for the number of orders per customer?"
   ]
  },
  {
   "cell_type": "code",
   "execution_count": 45,
   "id": "d8c26c23",
   "metadata": {},
   "outputs": [
    {
     "data": {
      "image/png": "[encoded data removed]",
      "text/plain": [
       "<Figure size 432x288 with 1 Axes>"
      ]
     },
     "metadata": {
      "needs_background": "light"
     },
     "output_type": "display_data"
    },
    {
     "data": {
      "text/plain": [
       "count    478952.000000\n",
       "mean         17.157563\n",
       "std          17.704457\n",
       "min           1.000000\n",
       "25%           5.000000\n",
       "50%          11.000000\n",
       "75%          23.000000\n",
       "max         100.000000\n",
       "Name: order_number, dtype: float64"
      ]
     },
     "metadata": {},
     "output_type": "display_data"
    }
   ],
   "source": [
    "# histogram for number of orders per customers\n",
    "orders['order_number'].plot(kind='hist', \n",
    "                            bins=100, \n",
    "                            title='Instacart: Number of orders per customer') \n",
    "plt.xlabel('Order Number (0-100)')\n",
    "plt.ylabel('Customers per Order Number')\n",
    "plt.show()\n",
    "\n",
    "display(orders['order_number'].describe())"
   ]
  },
  {
   "cell_type": "markdown",
   "id": "524c2188",
   "metadata": {},
   "source": [
    "<b>2.9 [B2]</b>\n",
    "<b>Task: What's the distribution for the number of orders per customer?</b>\n",
    "\n",
    "There's a little over 157k customers who have placed orders through Instacart. On average, each customer has placed approximately 17 orders. 25% of customers have placed 5 orders or fewer; 50% of customers have placed 11 orders or fewer; and 75% of customers have placed 23 orders or fewer."
   ]
  },
  {
   "cell_type": "markdown",
   "id": "d2eff7d5",
   "metadata": {},
   "source": []
  },
  {
   "cell_type": "markdown",
   "id": "54a0319c",
   "metadata": {},
   "source": [
    "### [B3] What are the top 20 popular products (display their id and name)?"
   ]
  },
  {
   "cell_type": "code",
   "execution_count": 46,
   "id": "exterior-arizona",
   "metadata": {
    "scrolled": true
   },
   "outputs": [
    {
     "name": "stdout",
     "output_type": "stream",
     "text": [
      "<class 'pandas.core.frame.DataFrame'>\n",
      "RangeIndex: 49694 entries, 0 to 49693\n",
      "Data columns (total 4 columns):\n",
      " #   Column         Non-Null Count  Dtype \n",
      "---  ------         --------------  ----- \n",
      " 0   product_id     49694 non-null  int64 \n",
      " 1   product_name   49694 non-null  object\n",
      " 2   aisle_id       49694 non-null  int64 \n",
      " 3   department_id  49694 non-null  int64 \n",
      "dtypes: int64(3), object(1)\n",
      "memory usage: 1.5+ MB\n",
      "<class 'pandas.core.frame.DataFrame'>\n",
      "RangeIndex: 4545007 entries, 0 to 4545006\n",
      "Data columns (total 4 columns):\n",
      " #   Column             Non-Null Count    Dtype\n",
      "---  ------             --------------    -----\n",
      " 0   order_id           4545007 non-null  int64\n",
      " 1   product_id         4545007 non-null  int64\n",
      " 2   add_to_cart_order  4545007 non-null  int64\n",
      " 3   reordered          4545007 non-null  int64\n",
      "dtypes: int64(4)\n",
      "memory usage: 138.7 MB\n"
     ]
    }
   ],
   "source": [
    "# viewing applicable dfs\n",
    "products.info()\n",
    "order_products.info(show_counts=True)"
   ]
  },
  {
   "cell_type": "code",
   "execution_count": 47,
   "id": "f3429cb0",
   "metadata": {},
   "outputs": [],
   "source": [
    "# merging applicable dataframes based on the common column 'product_id' \n",
    "# to keep rows matched based on their 'product_id'\n",
    "merged_df_product_id = pd.merge(order_products, products, on='product_id')\n",
    "\n",
    "# creating a frequency count of each product, set in order of product with most to least counts,\n",
    "# and resetting index\n",
    "counts = merged_df_product_id['product_id'].value_counts().reset_index()\n",
    "counts.columns = ['product_id', 'count']"
   ]
  },
  {
   "cell_type": "code",
   "execution_count": 48,
   "id": "15c8129a",
   "metadata": {},
   "outputs": [],
   "source": [
    "# merging dataframes 'counts' with original dataframe 'products' on common colum 'product_id'\n",
    "# to keep rows matched based on their 'product_id'\n",
    "result_df = pd.merge(counts, products, on='product_id')\n",
    "\n",
    "# filtering result_df dataframe by relevant columns and saving top 20 rows\n",
    "top_twenty_df = result_df[['product_id', 'count', 'product_name']].head(20)\n",
    "\n",
    "# resetting index to reflect Top 20 = 1-20, 1 = product with the most counts and 20 = products with the least\n",
    "top_twenty_df.index = range(1,21)"
   ]
  },
  {
   "cell_type": "code",
   "execution_count": 49,
   "id": "872f3ffd",
   "metadata": {},
   "outputs": [
    {
     "name": "stdout",
     "output_type": "stream",
     "text": [
      "Top 20 products are:   \n"
     ]
    },
    {
     "data": {
      "text/html": [
       "<div>\n",
       "<style scoped>\n",
       "    .dataframe tbody tr th:only-of-type {\n",
       "        vertical-align: middle;\n",
       "    }\n",
       "\n",
       "    .dataframe tbody tr th {\n",
       "        vertical-align: top;\n",
       "    }\n",
       "\n",
       "    .dataframe thead th {\n",
       "        text-align: right;\n",
       "    }\n",
       "</style>\n",
       "<table border=\"1\" class=\"dataframe\">\n",
       "  <thead>\n",
       "    <tr style=\"text-align: right;\">\n",
       "      <th></th>\n",
       "      <th>product_id</th>\n",
       "      <th>count</th>\n",
       "      <th>product_name</th>\n",
       "    </tr>\n",
       "  </thead>\n",
       "  <tbody>\n",
       "    <tr>\n",
       "      <th>1</th>\n",
       "      <td>24852</td>\n",
       "      <td>66050</td>\n",
       "      <td>banana</td>\n",
       "    </tr>\n",
       "    <tr>\n",
       "      <th>2</th>\n",
       "      <td>13176</td>\n",
       "      <td>53297</td>\n",
       "      <td>bag of organic bananas</td>\n",
       "    </tr>\n",
       "    <tr>\n",
       "      <th>3</th>\n",
       "      <td>21137</td>\n",
       "      <td>37039</td>\n",
       "      <td>organic strawberries</td>\n",
       "    </tr>\n",
       "    <tr>\n",
       "      <th>4</th>\n",
       "      <td>21903</td>\n",
       "      <td>33971</td>\n",
       "      <td>organic baby spinach</td>\n",
       "    </tr>\n",
       "    <tr>\n",
       "      <th>5</th>\n",
       "      <td>47209</td>\n",
       "      <td>29773</td>\n",
       "      <td>organic hass avocado</td>\n",
       "    </tr>\n",
       "    <tr>\n",
       "      <th>6</th>\n",
       "      <td>47766</td>\n",
       "      <td>24689</td>\n",
       "      <td>organic avocado</td>\n",
       "    </tr>\n",
       "    <tr>\n",
       "      <th>7</th>\n",
       "      <td>47626</td>\n",
       "      <td>21495</td>\n",
       "      <td>large lemon</td>\n",
       "    </tr>\n",
       "    <tr>\n",
       "      <th>8</th>\n",
       "      <td>16797</td>\n",
       "      <td>20018</td>\n",
       "      <td>strawberries</td>\n",
       "    </tr>\n",
       "    <tr>\n",
       "      <th>9</th>\n",
       "      <td>26209</td>\n",
       "      <td>19690</td>\n",
       "      <td>limes</td>\n",
       "    </tr>\n",
       "    <tr>\n",
       "      <th>10</th>\n",
       "      <td>27845</td>\n",
       "      <td>19600</td>\n",
       "      <td>organic whole milk</td>\n",
       "    </tr>\n",
       "    <tr>\n",
       "      <th>11</th>\n",
       "      <td>27966</td>\n",
       "      <td>19197</td>\n",
       "      <td>organic raspberries</td>\n",
       "    </tr>\n",
       "    <tr>\n",
       "      <th>12</th>\n",
       "      <td>22935</td>\n",
       "      <td>15898</td>\n",
       "      <td>organic yellow onion</td>\n",
       "    </tr>\n",
       "    <tr>\n",
       "      <th>13</th>\n",
       "      <td>24964</td>\n",
       "      <td>15292</td>\n",
       "      <td>organic garlic</td>\n",
       "    </tr>\n",
       "    <tr>\n",
       "      <th>14</th>\n",
       "      <td>45007</td>\n",
       "      <td>14584</td>\n",
       "      <td>organic zucchini</td>\n",
       "    </tr>\n",
       "    <tr>\n",
       "      <th>15</th>\n",
       "      <td>39275</td>\n",
       "      <td>13879</td>\n",
       "      <td>organic blueberries</td>\n",
       "    </tr>\n",
       "    <tr>\n",
       "      <th>16</th>\n",
       "      <td>49683</td>\n",
       "      <td>13675</td>\n",
       "      <td>cucumber kirby</td>\n",
       "    </tr>\n",
       "    <tr>\n",
       "      <th>17</th>\n",
       "      <td>28204</td>\n",
       "      <td>12544</td>\n",
       "      <td>organic fuji apple</td>\n",
       "    </tr>\n",
       "    <tr>\n",
       "      <th>18</th>\n",
       "      <td>5876</td>\n",
       "      <td>12232</td>\n",
       "      <td>organic lemon</td>\n",
       "    </tr>\n",
       "    <tr>\n",
       "      <th>19</th>\n",
       "      <td>8277</td>\n",
       "      <td>11993</td>\n",
       "      <td>apple honeycrisp organic</td>\n",
       "    </tr>\n",
       "    <tr>\n",
       "      <th>20</th>\n",
       "      <td>40706</td>\n",
       "      <td>11781</td>\n",
       "      <td>organic grape tomatoes</td>\n",
       "    </tr>\n",
       "  </tbody>\n",
       "</table>\n",
       "</div>"
      ],
      "text/plain": [
       "    product_id  count              product_name\n",
       "1        24852  66050                    banana\n",
       "2        13176  53297    bag of organic bananas\n",
       "3        21137  37039      organic strawberries\n",
       "4        21903  33971      organic baby spinach\n",
       "5        47209  29773      organic hass avocado\n",
       "6        47766  24689           organic avocado\n",
       "7        47626  21495               large lemon\n",
       "8        16797  20018              strawberries\n",
       "9        26209  19690                     limes\n",
       "10       27845  19600        organic whole milk\n",
       "11       27966  19197       organic raspberries\n",
       "12       22935  15898      organic yellow onion\n",
       "13       24964  15292            organic garlic\n",
       "14       45007  14584          organic zucchini\n",
       "15       39275  13879       organic blueberries\n",
       "16       49683  13675            cucumber kirby\n",
       "17       28204  12544        organic fuji apple\n",
       "18        5876  12232             organic lemon\n",
       "19        8277  11993  apple honeycrisp organic\n",
       "20       40706  11781    organic grape tomatoes"
      ]
     },
     "metadata": {},
     "output_type": "display_data"
    }
   ],
   "source": [
    "# viewing top 20 products\n",
    "print(\"Top 20 products are:   \")\n",
    "display(top_twenty_df)"
   ]
  },
  {
   "cell_type": "code",
   "execution_count": 50,
   "id": "universal-facial",
   "metadata": {
    "scrolled": true
   },
   "outputs": [
    {
     "data": {
      "image/png": "[encoded data removed]",
      "text/plain": [
       "<Figure size 864x432 with 1 Axes>"
      ]
     },
     "metadata": {
      "needs_background": "light"
     },
     "output_type": "display_data"
    }
   ],
   "source": [
    "# creating a horizontal bar chart to show top 20 products with product name and counts\n",
    "sort_top_twenty = top_twenty_df.sort_values(by='count')\n",
    "sort_top_twenty.plot(x='product_name',\n",
    "                     y= 'count',\n",
    "                     kind='barh',\n",
    "                     title='Top 20 Popular Products',\n",
    "                     rot=0,\n",
    "                     figsize=[12,6],\n",
    "                     fontsize=12\n",
    "                    )\n",
    "\n",
    "plt.xlabel('Amount Purchased')\n",
    "plt.ylabel('Produc† Name')\n",
    "\n",
    "plt.show()"
   ]
  },
  {
   "cell_type": "markdown",
   "id": "6c322ea6",
   "metadata": {},
   "source": [
    "<b>2.10 [B3]</b>\n",
    "\n",
    "<b>Task: What are the top 20 popular products (display their id and name)?</b>\n",
    "\n",
    "The table and horizontal bar chart above displays the top 20 popular products by charting the frequency of each item purchased using the data from the <b>products</b> and <b>order_products</b> DataFrames. It was found that the number one item sold were bananas (non-organic and organic, respectively) followed by organic strawberries, organic spinach, and organic hass avocados. The number of organic items among the top 5 products could reveal some information on the preferences of customers who place orders in the Instacart app. \n"
   ]
  },
  {
   "cell_type": "markdown",
   "id": "gross-theme",
   "metadata": {},
   "source": [
    "# [C] Hard (must complete at least two to pass)"
   ]
  },
  {
   "cell_type": "markdown",
   "id": "romantic-deposit",
   "metadata": {},
   "source": [
    "### [C1] How many items do people typically buy in one order? What does the distribution look like?"
   ]
  },
  {
   "cell_type": "code",
   "execution_count": 51,
   "id": "virtual-punch",
   "metadata": {},
   "outputs": [
    {
     "name": "stdout",
     "output_type": "stream",
     "text": [
      "<class 'pandas.core.frame.DataFrame'>\n",
      "RangeIndex: 4545007 entries, 0 to 4545006\n",
      "Data columns (total 4 columns):\n",
      " #   Column             Dtype\n",
      "---  ------             -----\n",
      " 0   order_id           int64\n",
      " 1   product_id         int64\n",
      " 2   add_to_cart_order  int64\n",
      " 3   reordered          int64\n",
      "dtypes: int64(4)\n",
      "memory usage: 138.7 MB\n",
      "\n",
      "<class 'pandas.core.frame.DataFrame'>\n",
      "RangeIndex: 478952 entries, 0 to 478951\n",
      "Data columns (total 6 columns):\n",
      " #   Column                  Non-Null Count   Dtype  \n",
      "---  ------                  --------------   -----  \n",
      " 0   order_id                478952 non-null  int64  \n",
      " 1   user_id                 478952 non-null  int64  \n",
      " 2   order_number            478952 non-null  int64  \n",
      " 3   order_dow               478952 non-null  int64  \n",
      " 4   order_hour_of_day       478952 non-null  int64  \n",
      " 5   days_since_prior_order  478952 non-null  float64\n",
      "dtypes: float64(1), int64(5)\n",
      "memory usage: 21.9 MB\n"
     ]
    }
   ],
   "source": [
    "# viewing info on relevant df\n",
    "order_products.info()\n",
    "print()\n",
    "orders.info()"
   ]
  },
  {
   "cell_type": "code",
   "execution_count": 52,
   "id": "e93b69c8",
   "metadata": {},
   "outputs": [
    {
     "data": {
      "text/html": [
       "<div>\n",
       "<style scoped>\n",
       "    .dataframe tbody tr th:only-of-type {\n",
       "        vertical-align: middle;\n",
       "    }\n",
       "\n",
       "    .dataframe tbody tr th {\n",
       "        vertical-align: top;\n",
       "    }\n",
       "\n",
       "    .dataframe thead th {\n",
       "        text-align: right;\n",
       "    }\n",
       "</style>\n",
       "<table border=\"1\" class=\"dataframe\">\n",
       "  <thead>\n",
       "    <tr style=\"text-align: right;\">\n",
       "      <th></th>\n",
       "      <th>order_id</th>\n",
       "      <th>add_to_cart_order</th>\n",
       "    </tr>\n",
       "  </thead>\n",
       "  <tbody>\n",
       "    <tr>\n",
       "      <th>0</th>\n",
       "      <td>4</td>\n",
       "      <td>13</td>\n",
       "    </tr>\n",
       "    <tr>\n",
       "      <th>1</th>\n",
       "      <td>9</td>\n",
       "      <td>15</td>\n",
       "    </tr>\n",
       "    <tr>\n",
       "      <th>2</th>\n",
       "      <td>11</td>\n",
       "      <td>5</td>\n",
       "    </tr>\n",
       "    <tr>\n",
       "      <th>3</th>\n",
       "      <td>19</td>\n",
       "      <td>3</td>\n",
       "    </tr>\n",
       "    <tr>\n",
       "      <th>4</th>\n",
       "      <td>20</td>\n",
       "      <td>8</td>\n",
       "    </tr>\n",
       "    <tr>\n",
       "      <th>...</th>\n",
       "      <td>...</td>\n",
       "      <td>...</td>\n",
       "    </tr>\n",
       "    <tr>\n",
       "      <th>450041</th>\n",
       "      <td>3421034</td>\n",
       "      <td>17</td>\n",
       "    </tr>\n",
       "    <tr>\n",
       "      <th>450042</th>\n",
       "      <td>3421053</td>\n",
       "      <td>9</td>\n",
       "    </tr>\n",
       "    <tr>\n",
       "      <th>450043</th>\n",
       "      <td>3421071</td>\n",
       "      <td>5</td>\n",
       "    </tr>\n",
       "    <tr>\n",
       "      <th>450044</th>\n",
       "      <td>3421077</td>\n",
       "      <td>4</td>\n",
       "    </tr>\n",
       "    <tr>\n",
       "      <th>450045</th>\n",
       "      <td>3421079</td>\n",
       "      <td>1</td>\n",
       "    </tr>\n",
       "  </tbody>\n",
       "</table>\n",
       "<p>449976 rows × 2 columns</p>\n",
       "</div>"
      ],
      "text/plain": [
       "        order_id  add_to_cart_order\n",
       "0              4                 13\n",
       "1              9                 15\n",
       "2             11                  5\n",
       "3             19                  3\n",
       "4             20                  8\n",
       "...          ...                ...\n",
       "450041   3421034                 17\n",
       "450042   3421053                  9\n",
       "450043   3421071                  5\n",
       "450044   3421077                  4\n",
       "450045   3421079                  1\n",
       "\n",
       "[449976 rows x 2 columns]"
      ]
     },
     "metadata": {},
     "output_type": "display_data"
    }
   ],
   "source": [
    "# grouping cart items per order_id and applying max() method for a list of maximum values per order_id\n",
    "cart_items = order_products.groupby('order_id')['add_to_cart_order'].max()\n",
    "\n",
    "# merging order_id's with total instacart orders on common column 'order_id\n",
    "# to keep rows matched based on order_id\n",
    "merged_df_order_id = pd.merge(cart_items, orders, on='order_id')\n",
    "\n",
    "# saving relevant columns into new dataframe\n",
    "final_df = merged_df_order_id[['order_id', 'add_to_cart_order']]\n",
    "\n",
    "# remove missing/placeholder values\n",
    "final_df = final_df[(final_df['add_to_cart_order'] != 999)]\n",
    "\n",
    "#viewing df\n",
    "display(final_df)"
   ]
  },
  {
   "cell_type": "code",
   "execution_count": 53,
   "id": "e9b8c78b",
   "metadata": {},
   "outputs": [
    {
     "data": {
      "image/png": "[encoded data removed]",
      "text/plain": [
       "<Figure size 864x360 with 1 Axes>"
      ]
     },
     "metadata": {
      "needs_background": "light"
     },
     "output_type": "display_data"
    },
    {
     "data": {
      "text/html": [
       "<div>\n",
       "<style scoped>\n",
       "    .dataframe tbody tr th:only-of-type {\n",
       "        vertical-align: middle;\n",
       "    }\n",
       "\n",
       "    .dataframe tbody tr th {\n",
       "        vertical-align: top;\n",
       "    }\n",
       "\n",
       "    .dataframe thead th {\n",
       "        text-align: right;\n",
       "    }\n",
       "</style>\n",
       "<table border=\"1\" class=\"dataframe\">\n",
       "  <thead>\n",
       "    <tr style=\"text-align: right;\">\n",
       "      <th></th>\n",
       "      <th>order_id</th>\n",
       "      <th>add_to_cart_order</th>\n",
       "    </tr>\n",
       "  </thead>\n",
       "  <tbody>\n",
       "    <tr>\n",
       "      <th>count</th>\n",
       "      <td>4.499760e+05</td>\n",
       "      <td>449976.000000</td>\n",
       "    </tr>\n",
       "    <tr>\n",
       "      <th>mean</th>\n",
       "      <td>1.710671e+06</td>\n",
       "      <td>10.088740</td>\n",
       "    </tr>\n",
       "    <tr>\n",
       "      <th>std</th>\n",
       "      <td>9.866434e+05</td>\n",
       "      <td>7.494232</td>\n",
       "    </tr>\n",
       "    <tr>\n",
       "      <th>min</th>\n",
       "      <td>4.000000e+00</td>\n",
       "      <td>1.000000</td>\n",
       "    </tr>\n",
       "    <tr>\n",
       "      <th>25%</th>\n",
       "      <td>8.576468e+05</td>\n",
       "      <td>5.000000</td>\n",
       "    </tr>\n",
       "    <tr>\n",
       "      <th>50%</th>\n",
       "      <td>1.711009e+06</td>\n",
       "      <td>8.000000</td>\n",
       "    </tr>\n",
       "    <tr>\n",
       "      <th>75%</th>\n",
       "      <td>2.563491e+06</td>\n",
       "      <td>14.000000</td>\n",
       "    </tr>\n",
       "    <tr>\n",
       "      <th>max</th>\n",
       "      <td>3.421079e+06</td>\n",
       "      <td>64.000000</td>\n",
       "    </tr>\n",
       "  </tbody>\n",
       "</table>\n",
       "</div>"
      ],
      "text/plain": [
       "           order_id  add_to_cart_order\n",
       "count  4.499760e+05      449976.000000\n",
       "mean   1.710671e+06          10.088740\n",
       "std    9.866434e+05           7.494232\n",
       "min    4.000000e+00           1.000000\n",
       "25%    8.576468e+05           5.000000\n",
       "50%    1.711009e+06           8.000000\n",
       "75%    2.563491e+06          14.000000\n",
       "max    3.421079e+06          64.000000"
      ]
     },
     "metadata": {},
     "output_type": "display_data"
    }
   ],
   "source": [
    "# histogram for the number of items typically purchased in one order\n",
    "final_df['add_to_cart_order'].plot(kind='hist', \n",
    "                                   bins=64, \n",
    "                                   title ='Instacart: How many items do people typically buy in one order?',\n",
    "                                   figsize=[12,5])\n",
    "plt.xlabel('Number of Items in Cart')\n",
    "plt.show()\n",
    "\n",
    "display(final_df.describe())"
   ]
  },
  {
   "cell_type": "markdown",
   "id": "982eb730",
   "metadata": {},
   "source": [
    "<b>2.11 [C1]</b>\n",
    "\n",
    "<b>Task: How many items do people typically buy in one order?</b>\n",
    "\n",
    "The histogram above displays the top number of items customers typically buy in one order by charting the frequency of each number of items in their cart within a set range (i.e., 1 - 64). On average, customers typically buy 10 or so items in one order. 25% of customers buy approx 5 items or fewer; 50% of customers buy approx 8 items or fewer; and 75% of customers buy approx 14 items or fewer."
   ]
  },
  {
   "cell_type": "markdown",
   "id": "designed-mortality",
   "metadata": {},
   "source": []
  },
  {
   "cell_type": "markdown",
   "id": "5e6b5537",
   "metadata": {},
   "source": [
    "### [C2] What are the top 20 items that are reordered most frequently (display their names and product IDs)?---"
   ]
  },
  {
   "cell_type": "code",
   "execution_count": 54,
   "id": "9374e55a",
   "metadata": {},
   "outputs": [
    {
     "name": "stdout",
     "output_type": "stream",
     "text": [
      "<class 'pandas.core.frame.DataFrame'>\n",
      "Int64Index: 4545007 entries, 0 to 4545006\n",
      "Data columns (total 7 columns):\n",
      " #   Column             Dtype \n",
      "---  ------             ----- \n",
      " 0   order_id           int64 \n",
      " 1   product_id         int64 \n",
      " 2   add_to_cart_order  int64 \n",
      " 3   reordered          int64 \n",
      " 4   product_name       object\n",
      " 5   aisle_id           int64 \n",
      " 6   department_id      int64 \n",
      "dtypes: int64(6), object(1)\n",
      "memory usage: 277.4+ MB\n"
     ]
    }
   ],
   "source": [
    "# refamilarizing with previous merged list\n",
    "merged_df_product_id.info()\n",
    "\n",
    "# isolating relevant columns and assigning to new df variable\n",
    "new_df = merged_df_product_id[['product_id', 'reordered']]\n",
    "\n",
    "# removing values where reordered = 0 \n",
    "new_df = new_df[(new_df['reordered'] != 0)]"
   ]
  },
  {
   "cell_type": "code",
   "execution_count": 55,
   "id": "9d4d03c0",
   "metadata": {},
   "outputs": [],
   "source": [
    "# grouping by product_id column and applying the count() method \n",
    "# for a total count of product_ids that were reordered \n",
    "reorder_count = new_df.groupby(['product_id']).count()\n",
    "\n",
    "# merging reorder count with original products dataframe on common col 'product_id' \n",
    "merged_reorder = pd.merge(reorder_count,products, on='product_id')\n",
    "\n",
    "# sorting_values from most to least \n",
    "merged_reorder = merged_reorder.sort_values(by='reordered', ascending=False)\n",
    "\n",
    "# filtering for relevant cols on the first 20 rows and assigning to top_twenty variable\n",
    "top_twenty = merged_reorder[['product_id', 'reordered', 'product_name']].head(20)\n",
    "\n",
    "# setting index to reflect 1-20, 1 = most reordered 20, least reordered \n",
    "top_twenty.index=range(1,21)"
   ]
  },
  {
   "cell_type": "code",
   "execution_count": 56,
   "id": "possible-change",
   "metadata": {
    "scrolled": true
   },
   "outputs": [
    {
     "name": "stdout",
     "output_type": "stream",
     "text": [
      "Top 20 items that are reordered most frequently:   \n"
     ]
    },
    {
     "data": {
      "text/html": [
       "<div>\n",
       "<style scoped>\n",
       "    .dataframe tbody tr th:only-of-type {\n",
       "        vertical-align: middle;\n",
       "    }\n",
       "\n",
       "    .dataframe tbody tr th {\n",
       "        vertical-align: top;\n",
       "    }\n",
       "\n",
       "    .dataframe thead th {\n",
       "        text-align: right;\n",
       "    }\n",
       "</style>\n",
       "<table border=\"1\" class=\"dataframe\">\n",
       "  <thead>\n",
       "    <tr style=\"text-align: right;\">\n",
       "      <th></th>\n",
       "      <th>product_id</th>\n",
       "      <th>reordered</th>\n",
       "      <th>product_name</th>\n",
       "    </tr>\n",
       "  </thead>\n",
       "  <tbody>\n",
       "    <tr>\n",
       "      <th>1</th>\n",
       "      <td>24852</td>\n",
       "      <td>55763</td>\n",
       "      <td>banana</td>\n",
       "    </tr>\n",
       "    <tr>\n",
       "      <th>2</th>\n",
       "      <td>13176</td>\n",
       "      <td>44450</td>\n",
       "      <td>bag of organic bananas</td>\n",
       "    </tr>\n",
       "    <tr>\n",
       "      <th>3</th>\n",
       "      <td>21137</td>\n",
       "      <td>28639</td>\n",
       "      <td>organic strawberries</td>\n",
       "    </tr>\n",
       "    <tr>\n",
       "      <th>4</th>\n",
       "      <td>21903</td>\n",
       "      <td>26233</td>\n",
       "      <td>organic baby spinach</td>\n",
       "    </tr>\n",
       "    <tr>\n",
       "      <th>5</th>\n",
       "      <td>47209</td>\n",
       "      <td>23629</td>\n",
       "      <td>organic hass avocado</td>\n",
       "    </tr>\n",
       "    <tr>\n",
       "      <th>6</th>\n",
       "      <td>47766</td>\n",
       "      <td>18743</td>\n",
       "      <td>organic avocado</td>\n",
       "    </tr>\n",
       "    <tr>\n",
       "      <th>7</th>\n",
       "      <td>27845</td>\n",
       "      <td>16251</td>\n",
       "      <td>organic whole milk</td>\n",
       "    </tr>\n",
       "    <tr>\n",
       "      <th>8</th>\n",
       "      <td>47626</td>\n",
       "      <td>15044</td>\n",
       "      <td>large lemon</td>\n",
       "    </tr>\n",
       "    <tr>\n",
       "      <th>9</th>\n",
       "      <td>27966</td>\n",
       "      <td>14748</td>\n",
       "      <td>organic raspberries</td>\n",
       "    </tr>\n",
       "    <tr>\n",
       "      <th>10</th>\n",
       "      <td>16797</td>\n",
       "      <td>13945</td>\n",
       "      <td>strawberries</td>\n",
       "    </tr>\n",
       "    <tr>\n",
       "      <th>11</th>\n",
       "      <td>26209</td>\n",
       "      <td>13327</td>\n",
       "      <td>limes</td>\n",
       "    </tr>\n",
       "    <tr>\n",
       "      <th>12</th>\n",
       "      <td>22935</td>\n",
       "      <td>11145</td>\n",
       "      <td>organic yellow onion</td>\n",
       "    </tr>\n",
       "    <tr>\n",
       "      <th>13</th>\n",
       "      <td>24964</td>\n",
       "      <td>10411</td>\n",
       "      <td>organic garlic</td>\n",
       "    </tr>\n",
       "    <tr>\n",
       "      <th>14</th>\n",
       "      <td>45007</td>\n",
       "      <td>10076</td>\n",
       "      <td>organic zucchini</td>\n",
       "    </tr>\n",
       "    <tr>\n",
       "      <th>15</th>\n",
       "      <td>49683</td>\n",
       "      <td>9538</td>\n",
       "      <td>cucumber kirby</td>\n",
       "    </tr>\n",
       "    <tr>\n",
       "      <th>16</th>\n",
       "      <td>28204</td>\n",
       "      <td>8989</td>\n",
       "      <td>organic fuji apple</td>\n",
       "    </tr>\n",
       "    <tr>\n",
       "      <th>17</th>\n",
       "      <td>8277</td>\n",
       "      <td>8836</td>\n",
       "      <td>apple honeycrisp organic</td>\n",
       "    </tr>\n",
       "    <tr>\n",
       "      <th>18</th>\n",
       "      <td>39275</td>\n",
       "      <td>8799</td>\n",
       "      <td>organic blueberries</td>\n",
       "    </tr>\n",
       "    <tr>\n",
       "      <th>19</th>\n",
       "      <td>5876</td>\n",
       "      <td>8412</td>\n",
       "      <td>organic lemon</td>\n",
       "    </tr>\n",
       "    <tr>\n",
       "      <th>20</th>\n",
       "      <td>49235</td>\n",
       "      <td>8389</td>\n",
       "      <td>organic half &amp; half</td>\n",
       "    </tr>\n",
       "  </tbody>\n",
       "</table>\n",
       "</div>"
      ],
      "text/plain": [
       "    product_id  reordered              product_name\n",
       "1        24852      55763                    banana\n",
       "2        13176      44450    bag of organic bananas\n",
       "3        21137      28639      organic strawberries\n",
       "4        21903      26233      organic baby spinach\n",
       "5        47209      23629      organic hass avocado\n",
       "6        47766      18743           organic avocado\n",
       "7        27845      16251        organic whole milk\n",
       "8        47626      15044               large lemon\n",
       "9        27966      14748       organic raspberries\n",
       "10       16797      13945              strawberries\n",
       "11       26209      13327                     limes\n",
       "12       22935      11145      organic yellow onion\n",
       "13       24964      10411            organic garlic\n",
       "14       45007      10076          organic zucchini\n",
       "15       49683       9538            cucumber kirby\n",
       "16       28204       8989        organic fuji apple\n",
       "17        8277       8836  apple honeycrisp organic\n",
       "18       39275       8799       organic blueberries\n",
       "19        5876       8412             organic lemon\n",
       "20       49235       8389       organic half & half"
      ]
     },
     "metadata": {},
     "output_type": "display_data"
    }
   ],
   "source": [
    "# viewing top twenty table \n",
    "\n",
    "print(\"Top 20 items that are reordered most frequently:   \")\n",
    "display(top_twenty)"
   ]
  },
  {
   "cell_type": "markdown",
   "id": "385a94cf",
   "metadata": {},
   "source": [
    "<b>2.12 [C2]</b>\n",
    "\n",
    "<b>Task: What are the top 20 items that are reordered most frequently (display their names and product IDs)?</b>\n",
    "\n",
    "The table above displays the top 20 that are reordered most frequently by displaying the frequency of each item reordered using the data from the <b>products</b> and <b>order_products</b> DataFrames."
   ]
  },
  {
   "cell_type": "markdown",
   "id": "6c9373b7",
   "metadata": {},
   "source": [
    "# CONCLUSION"
   ]
  },
  {
   "cell_type": "markdown",
   "id": "1011178c",
   "metadata": {},
   "source": [
    "The project started with assessing for missing and duplicate values and taking the proper action necessary (i.e., dropping or replacing missing and duplicate values) to proceed with data analysis. I addressed several key questions and discovered ideal times, days, and products to center due to the frequency of purchases made. \n",
    "\n",
    "To summarize our findings, we found:\n",
    "\n",
    "The top 5 hours for shopping are 10AM, 11AM, 3PM, 2PM, and 1PM, respectively. The average hour of the day when orders were placed is approximately 13.45 which suggests that, on average, orders are placed around mid-afternoon (i.e. between 1PM - 2PM). \n",
    "\n",
    "Functioning under the assumption that the Day of Week scale corresponds to Sunday = 0 and Saturday = 6, the top 3 days for shopping are Sunday, Monday, & Tuesday. The average day of the week when orders were placed is approximately 2.78 which suggests orders are, on average, placed between Tuesday and Wednesday.\n",
    "\n",
    "The two most common waiting periods observed before customers place another order are approximately one month and one week. The average time people wait between orders is approximately 10 days.\n",
    "\n",
    "When examining the distributions of the time of day for when orders were placed on Wednesday versus Friday, a difference in the number of orders placed on the two days was seen. That is, Fridays see more orders placed between 10AM and 3PM compared to Wednesdays. But, for the most part, both days have a similar distribution.\n",
    "\n",
    "When examining the distributions of the number of orders placed per customer, it was found that of the 157k+ customers who have placed orders through Instacart, on average, each customer placed approximately 17 orders. \n",
    "\n",
    "When searching for the top 20 popular products sold through the Instacart app, it was found that the number one item sold were bananas (non-organic and organic, respectively) followed by organic strawberries, organic baby spinach, and organic hass avocados. The number of organic items among the top 5 products could reveal some information on the preferences of customers who place orders in the Instacart app. \n",
    "\n",
    "When investigating how many items people typically buy in one order, it was found that on average, customers typically buy 10 or so items in one order. 25% of customers buy approximately 5 items or fewer; 50% of customers buy approximately 8 items or fewer; and 75% of customers buy approximately 14 items or fewer.\n",
    "\n",
    "Finally, when asking about the top 20 items that were reordered most frequently, it was found that top 5 items were the same top 5 among the top 20 popular products. \n"
   ]
  },
  {
   "cell_type": "markdown",
   "id": "28ce9872",
   "metadata": {},
   "source": []
  }
 ],
 "metadata": {
  "kernelspec": {
   "display_name": "Python 3 (ipykernel)",
   "language": "python",
   "name": "python3"
  },
  "language_info": {
   "codemirror_mode": {
    "name": "ipython",
    "version": 3
   },
   "file_extension": ".py",
   "mimetype": "text/x-python",
   "name": "python",
   "nbconvert_exporter": "python",
   "pygments_lexer": "ipython3",
   "version": "3.9.5"
  },
  "toc": {
   "base_numbering": 1,
   "nav_menu": {
    "height": "263px",
    "width": "465px"
   },
   "number_sections": true,
   "sideBar": true,
   "skip_h1_title": true,
   "title_cell": "Table of Contents",
   "title_sidebar": "Contents",
   "toc_cell": false,
   "toc_position": {
    "height": "calc(100% - 180px)",
    "left": "10px",
    "top": "150px",
    "width": "410.66px"
   },
   "toc_section_display": true,
   "toc_window_display": true
  },
  "vscode": {
   "interpreter": {
    "hash": "01a7be9ec63e704a62cefc5fe7a4756944464ee731be31632bdf42a4cb4688cf"
   }
  }
 },
 "nbformat": 4,
 "nbformat_minor": 5
}
